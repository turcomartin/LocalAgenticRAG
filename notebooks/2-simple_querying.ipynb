{
 "cells": [
  {
   "cell_type": "code",
   "execution_count": 1,
   "metadata": {},
   "outputs": [],
   "source": [
    "%load_ext autoreload\n",
    "%autoreload 2"
   ]
  },
  {
   "cell_type": "code",
   "execution_count": 2,
   "metadata": {},
   "outputs": [],
   "source": [
    "from langchain.retrievers import EnsembleRetriever\n",
    "from langchain_community.retrievers import BM25Retriever\n",
    "from langchain_community.retrievers import TFIDFRetriever\n",
    "from langchain_community.vectorstores import FAISS\n",
    "from langchain_chroma import Chroma\n",
    "from langchain_community.embeddings import OllamaEmbeddings"
   ]
  },
  {
   "cell_type": "markdown",
   "metadata": {},
   "source": [
    "#### Instantiate the embeddings model"
   ]
  },
  {
   "cell_type": "code",
   "execution_count": 3,
   "metadata": {},
   "outputs": [],
   "source": [
    "embedding = OllamaEmbeddings(model=\"nomic-embed-text:latest\")  # 768 dims"
   ]
  },
  {
   "cell_type": "markdown",
   "metadata": {},
   "source": [
    "#### Load the previously made vector stores"
   ]
  },
  {
   "cell_type": "code",
   "execution_count": 4,
   "metadata": {},
   "outputs": [],
   "source": [
    "#TF-IDF\n",
    "tfidf_retriever = TFIDFRetriever.load_local(\"tfidf_aoe2.pkl\", allow_dangerous_deserialization=True)\n",
    "\n",
    "#Chroma\n",
    "chroma_vectorstore = Chroma(embedding_function=embedding, persist_directory=\"chroma_aoe2\")\n",
    "chroma_retriever = chroma_vectorstore.as_retriever(search_kwargs={\"k\": 5})\n",
    "\n",
    "#Faiss\n",
    "faiss_retriever = FAISS.load_local(\"faiss_aoe2\", embedding, allow_dangerous_deserialization=True).as_retriever()"
   ]
  },
  {
   "cell_type": "code",
   "execution_count": 5,
   "metadata": {},
   "outputs": [
    {
     "data": {
      "text/plain": [
       "[Document(metadata={'page': 26, 'source': 'docs/Age_of_Empires_2_Manual.pdf'}, page_content='24 Chapter III  -  Building Your EmpireChapter III\\nPutting your villagers to work\\nVillagers are invaluable to your civilization. Their primary function\\nis to gather wood, food, gold, and stone from the land and deposit it\\nin your stockpile. They also construct buildings and repair damaged\\nbuildings, boats, and siege weapons. In a pinch, they can evenengage in combat. Fishing Ships also contribute to population count'),\n",
       " Document(metadata={'page': 89, 'source': 'docs/Age_of_Empires_2_Manual.pdf'}, page_content='and gold, hunt, forage, fish, herd sheep, and farm. They also construct buildings andrepair damaged buildings, ships, and siege weapons. If necessary, they can also engage in\\ncombat. Villager gender is randomly determined when you create a new villager. They\\nperform the same tasks regardless of their gender.\\nThe great percentage of people in the Middle Ages were\\npeasants, serfs, and lowly villagers who gathered the food'),\n",
       " Document(metadata={'page': 28, 'source': 'docs/Age_of_Empires_2_Manual.pdf'}, page_content='Farms & Fish Traps\\nFarms and Fish Traps are the only renewable sources of food. A villager builds a Farm (or\\na Fishing Ship builds a Fish Trap) and then gathers food from it and deposits it at the\\nTown Center or Mill (or Dock). Only one farmer can work a Farm, and only one FishingShip can work a Fish Trap.To find idle villagers\\nClick the Idle Villager  button near the mini-map. Each time you click'),\n",
       " Document(metadata={'page': 28, 'source': 'docs/Age_of_Empires_2_Manual.pdf'}, page_content='Wheelbarrow, Hand Cart (Town Center); Heavy Plow (Mill); Double-Bit Axe, Bow Saw,T wo-Man Saw (Lumber Camp); Stone Mining, Gold Mining, Stone Shaft Mining, GoldShaft Mining (Mining Camp).\\nResources are gradually depleted and eventually disappear. When this happens, the\\nvillager goes to the same type of site if one is nearby or stands idle until you give neworders.\\nFarms & Fish Traps'),\n",
       " Document(metadata={'page': 6, 'source': 'docs/Age_of_Empires_2_Manual.pdf'}, page_content='mine, or gold mine.\\nThe villager gathers some of the resource and automatically carries it to your\\nTown Center, where it is deposited in your stockpile (the amount is shown in\\nthe upper-left corner of the screen).\\nTo create a villager\\nClick the Town Center, and then click\\nthe Create Villager  button.\\nAfter a few seconds, the villager appears near\\nyour Town Center and you can order it to\\ngather resources.')]"
      ]
     },
     "execution_count": 5,
     "metadata": {},
     "output_type": "execute_result"
    }
   ],
   "source": [
    "chroma_retriever.invoke(\"Villagers\")"
   ]
  },
  {
   "cell_type": "code",
   "execution_count": 6,
   "metadata": {},
   "outputs": [],
   "source": [
    "chroma_retriever.search_kwargs['k'] = 9"
   ]
  },
  {
   "cell_type": "markdown",
   "metadata": {},
   "source": [
    "#### Simple querying"
   ]
  },
  {
   "cell_type": "code",
   "execution_count": 7,
   "metadata": {},
   "outputs": [],
   "source": [
    "def make_llama_3_prompt(user, system=\"\", context=\"\"):\n",
    "    if system != \"\":\n",
    "        system_prompt = (\n",
    "            f\"<|start_header_id|>system<|end_header_id|>\\n\\n{system}<|eot_id|>\"\n",
    "        )\n",
    "    return f\"<|begin_of_text|>{system_prompt}<|start_header_id|>user<|end_header_id|>\\n\\n{user}<|eot_id|><|start_header_id|>assistant<|end_header_id|>\\n\\n\""
   ]
  },
  {
   "cell_type": "code",
   "execution_count": 8,
   "metadata": {},
   "outputs": [],
   "source": [
    "from langchain_core.retrievers import BaseRetriever\n",
    "from langchain_ollama import ChatOllama\n",
    "llm = ChatOllama(model=\"llama3.1:latest\")"
   ]
  },
  {
   "cell_type": "code",
   "execution_count": 9,
   "metadata": {},
   "outputs": [],
   "source": [
    "class BasicAgent:\n",
    "    def __init__(self, llm:ChatOllama, retriever:BaseRetriever) -> None:\n",
    "        self.retriever = retriever\n",
    "        self.llm = llm\n",
    "\n",
    "    def custom_retriever(self, user_query:str, k):\n",
    "        try:\n",
    "            self.retriever.k = k\n",
    "        except Exception as e:\n",
    "            self.retriever.search_kwargs['k'] = k\n",
    "        retrieved_docs = self.retriever.invoke(user_query)\n",
    "        context = \"\"\n",
    "        for doc in retrieved_docs:\n",
    "            context += f\"Extracted from page {doc.metadata['page']} \\n{doc.page_content} \\n\\n\"\n",
    "        return context, retrieved_docs\n",
    "\n",
    "    def query(self, user_query:str, k=5):\n",
    "        context, retrieved_docs = self.custom_retriever(user_query, k)\n",
    "        system_prompt = (\"You are helpful assistant, your role is to assist people getting their way around the rules and mechanics of the famous game Age of Empires 2.\"\n",
    "                        \"You have the task to answer using the following context\"\n",
    "                        f\"<CONTEXT>{context}</CONTEXT>\"\n",
    "                        \"Keep you answers brief, make reference to the pages used and keep the answer at 50 words at max.\"\n",
    "                        \"If the answer is not contained in the context, say you don't know\")\n",
    "        prompt = self.make_llama_3_prompt(user_query, system_prompt)\n",
    "        answer = llm.invoke(prompt)\n",
    "        return answer.content, context, retrieved_docs\n",
    "    \n",
    "    def make_llama_3_prompt(self, user, system=\"\", context=\"\"):\n",
    "        if system != \"\":\n",
    "            system_prompt = (\n",
    "                f\"<|start_header_id|>system<|end_header_id|>\\n\\n{system}<|eot_id|>\"\n",
    "            )\n",
    "        return f\"<|begin_of_text|>{system_prompt}<|start_header_id|>user<|end_header_id|>\\n\\n{user}<|eot_id|><|start_header_id|>assistant<|end_header_id|>\\n\\n\""
   ]
  },
  {
   "cell_type": "code",
   "execution_count": 10,
   "metadata": {},
   "outputs": [],
   "source": [
    "TFIDF_Agent = BasicAgent(llm, tfidf_retriever)\n",
    "Chroma_Agent = BasicAgent(llm, chroma_retriever)\n",
    "Faiss_Agent = BasicAgent(llm, faiss_retriever)"
   ]
  },
  {
   "cell_type": "markdown",
   "metadata": {},
   "source": [
    "#### Manual inspection"
   ]
  },
  {
   "cell_type": "code",
   "execution_count": 11,
   "metadata": {},
   "outputs": [
    {
     "name": "stdout",
     "output_type": "stream",
     "text": [
      "You can increase the population limit by changing it in the Population box in the pregame settings. (Page 30)\n"
     ]
    },
    {
     "data": {
      "text/plain": [
       "[Document(metadata={'source': 'docs/Age_of_Empires_2_Manual.pdf', 'page': 30}, page_content='The population limit set at the beginning of the game determines how many villagers,\\nmilitary units, or ships your civilization can support. The default population limit for mostgames is 75. You can increase or decrease the population limit before you start a game by\\nchanging it in the Population  box in the pregame settings. For descriptions of the\\nvillagers, military units, and ships you can build, see Chapter VII.'),\n",
       " Document(metadata={'source': 'docs/Age_of_Empires_2_Manual.pdf', 'page': 22}, page_content='To change the setting, click the player number. To play a cooperative game, twoor more players must select the same player number and share control of a singlecivilization. Each player can give unrestricted (and even conflicting) orders toall units.\\nzTeam  — Shows the players who want to\\nstart the game as allies. You can select ateam by clicking the Team  number. A\\ndash (-) in the Team  box indicates no'),\n",
       " Document(metadata={'source': 'docs/Age_of_Empires_2_Manual.pdf', 'page': 27}, page_content='z Gold is used primarily to create advanced military units and to research technologies\\nin the later ages. You can also increase your stockpile of gold by trading with other\\nplayers (see Chapter V) or garrisoning relics inside a Monastery (see Chapter IV).\\nYou can also increase your stockpile of wood, food, gold, or stone by selling resources at\\nthe Market. In addition, other players can pay tribute to you in gold (see Chapter V).'),\n",
       " Document(metadata={'source': 'docs/Age_of_Empires_2_Manual.pdf', 'page': 37}, page_content='Drag the pointer around the villagers,\\nmilitary units, or ships you want to\\ngroup.\\n–or–\\nHold down the CTRL key, and then click\\nindividual units.\\nTo create a group\\n1 Drag the pointer around the units you want to group.\\n2 Hold down the CTRL key and press the number you want to assign to the group. For\\nexample, to assign the number 2 to a group, press CTRL+2. The number appears on\\neach unit in the group.'),\n",
       " Document(metadata={'source': 'docs/Age_of_Empires_2_Manual.pdf', 'page': 37}, page_content='a group), and then right-click a location.\\nHow quickly villagers, military units, and ships move depends on the speed of the unit,\\nthe game speed (within the game, click the Menu  button, and then click Options ), and\\nother units in the formation (if any) as described above.\\nGrouping units\\nGrouping lets you command several villagers,\\nmilitary units, or ships at the same time.\\nTo select multiple units\\nDrag the pointer around the villagers,')]"
      ]
     },
     "execution_count": 11,
     "metadata": {},
     "output_type": "execute_result"
    }
   ],
   "source": [
    "answer, context, retrieved_docs = TFIDF_Agent.query(\"How can I increase the number of villagers?\")\n",
    "print(answer)\n",
    "retrieved_docs"
   ]
  },
  {
   "cell_type": "code",
   "execution_count": 12,
   "metadata": {},
   "outputs": [
    {
     "name": "stdout",
     "output_type": "stream",
     "text": [
      "To increase the number of villagers, build a House. (Reference: page 12)\n"
     ]
    },
    {
     "data": {
      "text/plain": [
       "[Document(metadata={'page': 12, 'source': 'docs/Age_of_Empires_2_Manual.pdf'}, page_content='and build new Houses to support them. Put the new villagers to work gatheringmore food and wood. T o start, gather only enough wood for Houses to supportyour villagers and to build the two buildings required to advance to the FeudalAge.\\nz Gather food from the forage bushes near your town. Build your Mill near forage\\nbushes to gather food faster. Similarly, build Lumber Camps near forests andMining Camps near stone and gold mines.'),\n",
       " Document(metadata={'page': 52, 'source': 'docs/Age_of_Empires_2_Manual.pdf'}, page_content='select a villager, and then right-click the expired Farm. Only one\\nvillager can work each Farm. Before you can build Farms, you must build a Mill. Farms\\ncannot be converted by enemy Monks. You can farm enemy Farms that have been\\nabandoned.\\nYou can increase the production of your Farms by researching Horse Collar, Heavy Plow,\\nand Crop Rotation (at the Mill).'),\n",
       " Document(metadata={'page': 6, 'source': 'docs/Age_of_Empires_2_Manual.pdf'}, page_content='you can pay for improvements to your civilization. For more information about stockpil-\\ning resources, see Chapter III.\\nCreating new villagers\\nVillagers are a vital investment at the beginning of a game. The more villagers who aregathering resources, the faster your stockpile grows (and the faster you can build a\\npowerful civilization).To gather resources\\nClick a villager, and then right-click a forage bush or animal, tree, stone'),\n",
       " Document(metadata={'page': 26, 'source': 'docs/Age_of_Empires_2_Manual.pdf'}, page_content='24 Chapter III  -  Building Your EmpireChapter III\\nPutting your villagers to work\\nVillagers are invaluable to your civilization. Their primary function\\nis to gather wood, food, gold, and stone from the land and deposit it\\nin your stockpile. They also construct buildings and repair damaged\\nbuildings, boats, and siege weapons. In a pinch, they can evenengage in combat. Fishing Ships also contribute to population count'),\n",
       " Document(metadata={'page': 7, 'source': 'docs/Age_of_Empires_2_Manual.pdf'}, page_content='Constructing buildings\\nVillagers can deposit resources at the Town Center,the Mill, the Lumber Camp, and the Mining Camp.\\nConstructing these buildings near a resource\\ndecreases the distance your villagers walk, so yourstockpile grows more quickly.\\nTo build a Mill\\nClick a villager, click the Buildings  button,\\nclick the Build Mill  button, and then click\\na location near a forage bush. If the')]"
      ]
     },
     "execution_count": 12,
     "metadata": {},
     "output_type": "execute_result"
    }
   ],
   "source": [
    "answer, context, retrieved_docs = Chroma_Agent.query(\"How can I increase the number of villagers?\")\n",
    "print(answer)\n",
    "retrieved_docs"
   ]
  },
  {
   "cell_type": "code",
   "execution_count": 13,
   "metadata": {},
   "outputs": [
    {
     "name": "stdout",
     "output_type": "stream",
     "text": [
      "To increase the number of villagers, build a House. (Reference: page 12)\n"
     ]
    },
    {
     "data": {
      "text/plain": [
       "[Document(metadata={'page': 12, 'source': 'docs/Age_of_Empires_2_Manual.pdf'}, page_content='and build new Houses to support them. Put the new villagers to work gatheringmore food and wood. T o start, gather only enough wood for Houses to supportyour villagers and to build the two buildings required to advance to the FeudalAge.\\nz Gather food from the forage bushes near your town. Build your Mill near forage\\nbushes to gather food faster. Similarly, build Lumber Camps near forests andMining Camps near stone and gold mines.'),\n",
       " Document(metadata={'page': 52, 'source': 'docs/Age_of_Empires_2_Manual.pdf'}, page_content='select a villager, and then right-click the expired Farm. Only one\\nvillager can work each Farm. Before you can build Farms, you must build a Mill. Farms\\ncannot be converted by enemy Monks. You can farm enemy Farms that have been\\nabandoned.\\nYou can increase the production of your Farms by researching Horse Collar, Heavy Plow,\\nand Crop Rotation (at the Mill).'),\n",
       " Document(metadata={'page': 6, 'source': 'docs/Age_of_Empires_2_Manual.pdf'}, page_content='you can pay for improvements to your civilization. For more information about stockpil-\\ning resources, see Chapter III.\\nCreating new villagers\\nVillagers are a vital investment at the beginning of a game. The more villagers who aregathering resources, the faster your stockpile grows (and the faster you can build a\\npowerful civilization).To gather resources\\nClick a villager, and then right-click a forage bush or animal, tree, stone'),\n",
       " Document(metadata={'page': 26, 'source': 'docs/Age_of_Empires_2_Manual.pdf'}, page_content='24 Chapter III  -  Building Your EmpireChapter III\\nPutting your villagers to work\\nVillagers are invaluable to your civilization. Their primary function\\nis to gather wood, food, gold, and stone from the land and deposit it\\nin your stockpile. They also construct buildings and repair damaged\\nbuildings, boats, and siege weapons. In a pinch, they can evenengage in combat. Fishing Ships also contribute to population count'),\n",
       " Document(metadata={'page': 7, 'source': 'docs/Age_of_Empires_2_Manual.pdf'}, page_content='Constructing buildings\\nVillagers can deposit resources at the Town Center,the Mill, the Lumber Camp, and the Mining Camp.\\nConstructing these buildings near a resource\\ndecreases the distance your villagers walk, so yourstockpile grows more quickly.\\nTo build a Mill\\nClick a villager, click the Buildings  button,\\nclick the Build Mill  button, and then click\\na location near a forage bush. If the')]"
      ]
     },
     "execution_count": 13,
     "metadata": {},
     "output_type": "execute_result"
    }
   ],
   "source": [
    "answer, context, retrieved_docs, Faiss_Agent.query(\"How can I increase the number of villagers?\")\n",
    "print(answer)\n",
    "retrieved_docs"
   ]
  },
  {
   "cell_type": "markdown",
   "metadata": {},
   "source": [
    "We can see that both FAISS and Chroma retrievers retrieved the same docs while the TF-IDF method didn't\n",
    "\n",
    "- TF-IDF:\n",
    "    - 'You can increase the population limit by changing it in the Population box in the pregame settings (page 30).'\n",
    "- Chroma:\n",
    "    - 'To increase the number of villagers, build new Houses to support them. (Extracted from page 12)'\n",
    "- FAISS:\n",
    "    - 'You can create new villagers by building Houses. The houses will support them. Put the new villagers to work gathering more food and wood. (Page 12)'\n",
    "\n",
    "It wouldn't be fair to tag the TF-IDF answer as **wrongly answered**. It does answer the questions but the general intention of a player is to actually increase the number of villager in the game, not just by changing a setting."
   ]
  },
  {
   "cell_type": "markdown",
   "metadata": {},
   "source": [
    "# Evaluation\n",
    "\n",
    "We evaluate the quality of the answers given. We won't be evaluating the retriever. Altought in some scenarios it might be a good idea.\n",
    "Let's go ahead and create an Evaluator, this evaluator will compute the answers for the given questions in the dataset."
   ]
  },
  {
   "cell_type": "markdown",
   "metadata": {},
   "source": []
  }
 ],
 "metadata": {
  "kernelspec": {
   "display_name": "localrag",
   "language": "python",
   "name": "python3"
  },
  "language_info": {
   "codemirror_mode": {
    "name": "ipython",
    "version": 3
   },
   "file_extension": ".py",
   "mimetype": "text/x-python",
   "name": "python",
   "nbconvert_exporter": "python",
   "pygments_lexer": "ipython3",
   "version": "3.12.4"
  }
 },
 "nbformat": 4,
 "nbformat_minor": 2
}

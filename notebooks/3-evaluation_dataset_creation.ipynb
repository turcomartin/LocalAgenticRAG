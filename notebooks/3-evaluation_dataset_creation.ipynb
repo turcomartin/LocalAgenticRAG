{
 "cells": [
  {
   "cell_type": "code",
   "execution_count": 2,
   "metadata": {},
   "outputs": [],
   "source": [
    "%load_ext autoreload\n",
    "%autoreload 2"
   ]
  },
  {
   "cell_type": "code",
   "execution_count": 3,
   "metadata": {},
   "outputs": [],
   "source": [
    "from langchain.retrievers import EnsembleRetriever\n",
    "from langchain_community.retrievers import BM25Retriever\n",
    "from langchain_community.retrievers import TFIDFRetriever\n",
    "from langchain_community.vectorstores import FAISS\n",
    "from langchain_chroma import Chroma\n",
    "from langchain_community.embeddings import OllamaEmbeddings"
   ]
  },
  {
   "cell_type": "markdown",
   "metadata": {},
   "source": [
    "#### Instantiate the embeddings model"
   ]
  },
  {
   "cell_type": "code",
   "execution_count": 4,
   "metadata": {},
   "outputs": [],
   "source": [
    "embedding = OllamaEmbeddings(model=\"nomic-embed-text:latest\")  # 768 dims"
   ]
  },
  {
   "cell_type": "markdown",
   "metadata": {},
   "source": [
    "#### Load the previously made vector stores"
   ]
  },
  {
   "cell_type": "code",
   "execution_count": 5,
   "metadata": {},
   "outputs": [],
   "source": [
    "#TF-IDF\n",
    "tfidf_retriever = TFIDFRetriever.load_local(\"tfidf_aoe2.pkl\", allow_dangerous_deserialization=True)\n",
    "\n",
    "#Chroma\n",
    "chroma_vectorstore = Chroma(embedding_function=embedding, persist_directory=\"chroma_aoe2\")\n",
    "chroma_retriever = chroma_vectorstore.as_retriever(search_kwargs={\"k\": 5})\n",
    "\n",
    "#Faiss\n",
    "faiss_retriever = FAISS.load_local(\"faiss_aoe2\", embedding, allow_dangerous_deserialization=True).as_retriever()"
   ]
  },
  {
   "cell_type": "code",
   "execution_count": 6,
   "metadata": {},
   "outputs": [],
   "source": [
    "from langchain_core.retrievers import BaseRetriever\n",
    "from langchain_ollama import ChatOllama\n",
    "llm = ChatOllama(model=\"llama3.1:latest\", format=\"json\", temperature=0)"
   ]
  },
  {
   "cell_type": "code",
   "execution_count": 7,
   "metadata": {},
   "outputs": [],
   "source": [
    "def make_llama_3_prompt(user, system=\"\", context=\"\"):\n",
    "    if system != \"\":\n",
    "        system_prompt = (\n",
    "            f\"<|start_header_id|>system<|end_header_id|>\\n\\n{system}<|eot_id|>\"\n",
    "        )\n",
    "    return f\"<|begin_of_text|>{system_prompt}<|start_header_id|>user<|end_header_id|>\\n\\n{user}<|eot_id|><|start_header_id|>assistant<|end_header_id|>\\n\\n\""
   ]
  },
  {
   "cell_type": "code",
   "execution_count": 8,
   "metadata": {},
   "outputs": [],
   "source": [
    "class BasicAgent:\n",
    "    def __init__(self, llm:ChatOllama, retriever:BaseRetriever) -> None:\n",
    "        self.retriever = retriever\n",
    "        self.llm = llm\n",
    "\n",
    "    def custom_retriever(self, user_query:str, k):\n",
    "        try:\n",
    "            self.retriever.k = k\n",
    "        except Exception as e:\n",
    "            self.retriever.search_kwargs['k'] = k\n",
    "        retrieved_docs = self.retriever.invoke(user_query)\n",
    "        context = \"\"\n",
    "        for doc in retrieved_docs:\n",
    "            context += f\"Extracted from page {doc.metadata['page']} \\n{doc.page_content} \\n\\n\"\n",
    "        return context, retrieved_docs\n",
    "\n",
    "    def query(self, user_query:str, k=5):\n",
    "        context, retrieved_docs = self.custom_retriever(user_query, k)\n",
    "        system_prompt = (\"You are helpful assistant, your role is to assist people getting their way around the rules and mechanics of the famous game Age of Empires 2.\"\n",
    "                        \"You have the task to answer using the following context\"\n",
    "                        f\"<CONTEXT>{context}</CONTEXT>\"\n",
    "                        \"Keep you answers brief, make reference to the pagees used and keep the answer at 50 words at max.\"\n",
    "                        \"If the answer is not contained in the context, say you don't know\")\n",
    "        prompt = self.make_llama_3_prompt(user_query, system_prompt)\n",
    "        answer = self.llm.invoke(prompt)\n",
    "        return answer.content, context, retrieved_docs\n",
    "    \n",
    "    def make_llama_3_prompt(self, user, system=\"\", context=\"\"):\n",
    "        if system != \"\":\n",
    "            system_prompt = (\n",
    "                f\"<|start_header_id|>system<|end_header_id|>\\n\\n{system}<|eot_id|>\"\n",
    "            )\n",
    "        return f\"<|begin_of_text|>{system_prompt}<|start_header_id|>user<|end_header_id|>\\n\\n{user}<|eot_id|><|start_header_id|>assistant<|end_header_id|>\\n\\n\""
   ]
  },
  {
   "cell_type": "code",
   "execution_count": 9,
   "metadata": {},
   "outputs": [],
   "source": [
    "TFIDF_Agent = BasicAgent(llm, tfidf_retriever)\n",
    "Chroma_Agent = BasicAgent(llm, chroma_retriever)\n",
    "Faiss_Agent = BasicAgent(llm, faiss_retriever)"
   ]
  },
  {
   "cell_type": "markdown",
   "metadata": {},
   "source": [
    "# Evaluation"
   ]
  },
  {
   "cell_type": "markdown",
   "metadata": {},
   "source": [
    "Create synthetic testing datasets"
   ]
  },
  {
   "cell_type": "code",
   "execution_count": 10,
   "metadata": {},
   "outputs": [],
   "source": [
    "llm_eval_generator = ChatOllama(model=\"mistral:instruct\",  format=\"json\", temperature=0)"
   ]
  },
  {
   "cell_type": "code",
   "execution_count": 50,
   "metadata": {},
   "outputs": [],
   "source": [
    "QA_generation_prompt = \"\"\"\n",
    "Your task is to write a factoid question and an answer given a context.\n",
    "Your factoid question should be answerable with a specific, concise piece of factual information from the context.\n",
    "Your factoid question should be formulated in the same style as questions users could ask in a search engine.\n",
    "This means that your factoid question MUST NOT mention something like \"according to the passage\" or \"context\".\n",
    "\n",
    "Provide your answer as follows:\n",
    "\n",
    "Output::: JSON with two keys, the --question-- and the --answer--\n",
    "{{\"question\": (your factoid question), \"answer\": (your answer to the factoid question)}}\n",
    "\n",
    "Now here is the context.\n",
    "\n",
    "Context: {context}\\n\n",
    "Output:::\n",
    "\"\"\""
   ]
  },
  {
   "cell_type": "code",
   "execution_count": 75,
   "metadata": {},
   "outputs": [],
   "source": [
    "JSON_Corrector_prompt = \"\"\"\n",
    "Your task is to correct malformed JSON objects\n",
    "Given a this damaged JSON: {bad_json}\\n\n",
    "\n",
    "Correct any formatting mistakes. Output the corrected JSON with no text before or after the JSON.\n",
    "\"\"\""
   ]
  },
  {
   "cell_type": "code",
   "execution_count": 13,
   "metadata": {},
   "outputs": [],
   "source": [
    "docs = chroma_vectorstore.get()"
   ]
  },
  {
   "cell_type": "code",
   "execution_count": 16,
   "metadata": {},
   "outputs": [
    {
     "data": {
      "text/plain": [
       "dict_keys(['ids', 'embeddings', 'metadatas', 'documents', 'uris', 'data', 'included'])"
      ]
     },
     "execution_count": 16,
     "metadata": {},
     "output_type": "execute_result"
    }
   ],
   "source": [
    "docs.keys()"
   ]
  },
  {
   "cell_type": "code",
   "execution_count": 24,
   "metadata": {},
   "outputs": [
    {
     "data": {
      "text/plain": [
       "[{'page': 96, 'source': 'docs/Age_of_Empires_2_Manual.pdf'},\n",
       " {'page': 62, 'source': 'docs/Age_of_Empires_2_Manual.pdf'},\n",
       " {'page': 126, 'source': 'docs/Age_of_Empires_2_Manual.pdf'},\n",
       " {'page': 60, 'source': 'docs/Age_of_Empires_2_Manual.pdf'},\n",
       " {'page': 126, 'source': 'docs/Age_of_Empires_2_Manual.pdf'},\n",
       " {'page': 89, 'source': 'docs/Age_of_Empires_2_Manual.pdf'},\n",
       " {'page': 71, 'source': 'docs/Age_of_Empires_2_Manual.pdf'},\n",
       " {'page': 22, 'source': 'docs/Age_of_Empires_2_Manual.pdf'},\n",
       " {'page': 72, 'source': 'docs/Age_of_Empires_2_Manual.pdf'},\n",
       " {'page': 85, 'source': 'docs/Age_of_Empires_2_Manual.pdf'}]"
      ]
     },
     "execution_count": 24,
     "metadata": {},
     "output_type": "execute_result"
    }
   ],
   "source": [
    "docs['metadatas'][0:10]"
   ]
  },
  {
   "cell_type": "code",
   "execution_count": 18,
   "metadata": {},
   "outputs": [
    {
     "data": {
      "text/plain": [
       "['even faster than Double-Bit Axe.\\nThe bow saw had a rounded handle like a bow with the saw blade connecting the bow ends. The bow saw was\\na more precise tool than previous saws. W oodcutters using it got more usable wood from each tree by reducing\\nwaste.\\nTwo-Man Saw\\nT wo-Man Saw (at the Lumber Camp) makes villagers chop\\nwood even faster than the Bow Saw.',\n",
       " '60 Chapter VII  -  Units\\nMan-at-Arms\\nStronger than Militia; cheap and quick to create.\\n/c67/c114/c101/c97/c116/c101/c100/c32/c97/c116 Barracks\\n/c83/c116/c114/c111/c110/c103/c32/c118/c115 /c46 skirmishers, camels, Light Cavalry\\n/c87 /c101/c97/c107/c32/c118/c115 /c46 archers, scorpions, cavalry archers, mangonels, Cataphracts\\n/c85/c112/c103/c114/c97/c100/c101/c115 Attack — Forging, Iron Casting, Blast Furnace (Blacksmith)',\n",
       " 'and combat stances  43custom  43described  42setting  42types of  43Fortified Wall  57\\nFrankish Technology Tree\\n120\\nG\\ngame\\ninstalling  2mastering basics of  3\\ngame types  12.\\nSee also\\nindividual game types\\ngames\\nexiting  11multiplayer.\\nSee\\nmultiplayer games\\nRandom Map. See\\nRandom Map games\\nrecording  14replaying  14saving  11scoring.\\nSee scores\\nsetting options  11team  45types of.\\nSee game types\\nwinning  9, 16\\ngarrisoning units  37Gates',\n",
       " 'Keep\\nThe Keep is an upgrade of the Guard Tower. It is stronger and has greater\\nfighting capability. Units can garrison inside for protection and to add\\nadditional attack strength to the tower.\\nThe central and strongest building inside a castle was called the keep. This was the last bastion of defense inside\\nif the walls and outside towers were taken.  The remaining defenders withdrew into the keep for the final',\n",
       " 'winning  9, 16\\ngarrisoning units  37Gates\\nlocking, unlocking  56\\ngather points  30gathering resources  4getting Help\\n3, 11, 13, 19, 23\\ngold\\n4, 10, 25, 26, 50, 93\\nGold Mining  93Gold Shaft Mining  93Gothic Technology Tree\\n122group select  35\\nGuard Towers  \\n58\\nguarding units  41Guilds  96\\nH',\n",
       " '87\\nOther units\\nVillager\\nGathers wood, food, gold, and stone. Builds and repairs\\nbuildings. Repairs buildings, ships, and siege weapons.\\n/c67/c114/c101/c97/c116/c101/c100/c32/c97/c116 Town Center\\n/c85/c112/c103/c114/c97/c100/c101/c115 HP, armor, efficiency — Loom, Wheelbarrow, Hand Cart (Town\\nCenter)\\nAttack — Sappers (Castle)\\nResource-gathering — Double-Bit Axe, Bow Saw, Two-Man Saw;',\n",
       " '/c67/c114/c101/c97/c116/c101/c100/c32/c97/c116 Archery Range\\n/c83/c116/c114/c111/c110/c103/c32/c118/c115 /c46 swordsmen, Monks, Teutonic Knights, War Elephants\\n/c87 /c101/c97/c107/c32/c118/c115 /c46 archers, skirmishers, Light Cavalry\\n/c85/c112/c103/c114/c97/c100/c101/c115 Attack — Chemistry (University)\\nAttack, Range — Fletching, Bodkin Arrow, Bracer (Blacksmith)\\nArmor — Padded Archer Armor, Leather Archer Armor, Ring\\nArcher Armor (Blacksmith)',\n",
       " 'dash (-) in the Team  box indicates no\\nteam. Players on the same team auto-matically have their diplomatic stanceset to Ally, and Allied Victory  is\\nselected. If you want to prevent playersfrom changing teams after the gamestarts, select the  Lock Teams  check box',\n",
       " '70 Chapter VII  -  Unitsunexpectedly, and withdraw if necessary before heavy cavalry or infantry units could react. The Mongols\\nespecially mastered the tactics of hitting, running, and ambushing, avoiding hand-to-hand fighting until the\\nenemy was completely demoralized. Cavalry archers were most effective on open ground with plenty of',\n",
       " 'secret weapon of the Byzantine navy was Greek fire. This extremely volatile mixture was squirted out of hosesfrom the bow of the fire ship and ignited on contact with air . Fire was a devastating weapon against wooden\\nships and the enemies of the Byzantines could not stand up to fire ships spraying Greek fire.  Other civilizations']"
      ]
     },
     "execution_count": 18,
     "metadata": {},
     "output_type": "execute_result"
    }
   ],
   "source": [
    "docs['documents'][:10]"
   ]
  },
  {
   "cell_type": "code",
   "execution_count": 19,
   "metadata": {},
   "outputs": [],
   "source": [
    "## Let's take a random sample of 30 chunks"
   ]
  },
  {
   "cell_type": "code",
   "execution_count": 40,
   "metadata": {},
   "outputs": [],
   "source": [
    "from random import seed\n",
    "import numpy as np\n",
    "temp_all_docs = docs['documents']\n",
    "temp_all_metadatas = docs['metadatas']\n",
    "all_docs = [{\"page_content\":doc, \"metadata\":metadata} for doc, metadata in zip(temp_all_docs, temp_all_metadatas)]\n",
    "np.random.seed(1234)\n",
    "docs_sample = np.random.choice(all_docs, 30, replace=False)"
   ]
  },
  {
   "cell_type": "code",
   "execution_count": 33,
   "metadata": {},
   "outputs": [
    {
     "data": {
      "text/plain": [
       "30"
      ]
     },
     "execution_count": 33,
     "metadata": {},
     "output_type": "execute_result"
    }
   ],
   "source": [
    "len(docs_sample)"
   ]
  },
  {
   "cell_type": "code",
   "execution_count": 43,
   "metadata": {},
   "outputs": [
    {
     "data": {
      "text/plain": [
       "array([{'page_content': 'The heavy camel was an especially experienced warrior and camel rider who wore some armor . They were\\nused by desert civilizations of the Middle East who fought against archers from the Byzantine Empire and\\nhorse archers raiding down from the steppes of Asia.', 'metadata': {'page': 78, 'source': 'docs/Age_of_Empires_2_Manual.pdf'}},\n",
       "       {'page_content': 'the game. You can display the objectives again during a game by clicking the Objectives\\nbutton at the top of the screen.\\nStandard victory\\nYou can win any Random Map or Death Match game by being the first player or team todefeat your enemies in military conquest, control all relics, or build a Wonder. You andyour opponents do not have to pursue the same victory condition. For example, you may', 'metadata': {'page': 18, 'source': 'docs/Age_of_Empires_2_Manual.pdf'}},\n",
       "       {'page_content': '138 Indexcavalry units  73\\nCeltic Technology Tree  116Chain Barding Armor  104Chain Mail Armor  98Champion  61Chemistry  102Chinese Technology Tree\\n118\\nChu Ko Nu  71civilizations  14Coinage  95combat stances  41computer player scripts  23connection types,\\nmultiplayer games  19\\nConquest victory  16Conscription  97Crop Rotation  95Crossbowman  67\\nD\\nDark Age  31Death Match games  13deleting buildings and units\\n30', 'metadata': {'page': 125, 'source': 'docs/Age_of_Empires_2_Manual.pdf'}},\n",
       "       {'page_content': 'color) so you can control them. For example, if you convert enemy villagers, you can\\ngather wood using them. If you convert an enemy Barracks, you can create infantry there.Non-upgraded Monks can convert enemy villagers, ships, and nonsiege military units. If\\nyou research technology at the Monastery, they can also convert most buildings, all siege\\nunits, and enemy Monks. Units that you convert count toward your population.', 'metadata': {'page': 41, 'source': 'docs/Age_of_Empires_2_Manual.pdf'}},\n",
       "       {'page_content': 'and build new Houses to support them. Put the new villagers to work gatheringmore food and wood. T o start, gather only enough wood for Houses to supportyour villagers and to build the two buildings required to advance to the FeudalAge.\\nz Gather food from the forage bushes near your town. Build your Mill near forage\\nbushes to gather food faster. Similarly, build Lumber Camps near forests andMining Camps near stone and gold mines.', 'metadata': {'page': 12, 'source': 'docs/Age_of_Empires_2_Manual.pdf'}},\n",
       "       {'page_content': 'Armor — Scale Barding Armor, Chain Barding Armor, Plate\\nBarding Armor (Blacksmith)\\nSpeed — Husbandry (Stable)\\nUnit creation speed — Conscription (Castle)\\nYour units resistant to other Monks — Faith (Monastery)\\nThe Byzantine army carried on many of the military traditions of the old Roman Empire into the Middle\\nAges. This was a professional force that was well trained and well led. Officers studied tactics and command.', 'metadata': {'page': 79, 'source': 'docs/Age_of_Empires_2_Manual.pdf'}},\n",
       "       {'page_content': 'invasion of 1066.  The Normans also invaded Sicily and southern Italy. Many of the Crusades involved sea\\nmovement from France to the Holy Land.  The English brought armies into France several times during theHundred Y ear’ s W ar .\\nDemolition Ship & Heavy Demolition Ship\\nFilled with explosives. Pilot near enemy ships and detonate to wrest\\ncontrol of the sea from an entrenched opponent.\\n/c66/c117/c105/c108/c116/c32/c97/c116 Dock', 'metadata': {'page': 86, 'source': 'docs/Age_of_Empires_2_Manual.pdf'}},\n",
       "       {'page_content': 'Late in the eighth century Viking sea raiders from Scandinavia appeared suddenly in Northern Europe.  They\\nraided and plundered coastal communities for the next 150 years.  Most of the progress made by Charlemagne\\nin uniting Northern Europe and beginning a rebirth of civilization was erased by the turmoil they caused. The', 'metadata': {'page': 65, 'source': 'docs/Age_of_Empires_2_Manual.pdf'}},\n",
       "       {'page_content': 'Vikings were known for their great seamanship and ferocity in battle. Witnesses claimed that Viking warriorswould occasionally go “berserk”  and attack with nearly inhuman zeal, oblivious to all danger . Such behavior\\nwas terrifying to behold and very difficult to withstand. The ability to go mad with battle lust was a powerful\\nattribute during a period of widespread superstition.', 'metadata': {'page': 65, 'source': 'docs/Age_of_Empires_2_Manual.pdf'}},\n",
       "       {'page_content': 'for fighting defense. Whereas some earlier watch towers had been square,  guard towers were usually round toeliminate a sharp corner that could be knocked off. Fighting positions at the top of a guard tower were\\nimproved to protect defenders. Hoardings extended out from the top, allowing defenders to reach the bottom of\\nthe guard tower with missiles.  Entrances to guard towers were made more elaborate and more easilydefendable.\\nKeep', 'metadata': {'page': 60, 'source': 'docs/Age_of_Empires_2_Manual.pdf'}}],\n",
       "      dtype=object)"
      ]
     },
     "execution_count": 43,
     "metadata": {},
     "output_type": "execute_result"
    }
   ],
   "source": [
    "docs_sample[0:10]"
   ]
  },
  {
   "cell_type": "code",
   "execution_count": 85,
   "metadata": {},
   "outputs": [],
   "source": [
    "import json\n",
    "def json_corrector(llm, json_to_correct, MAX_TRIES):\n",
    "    correction_prompt = JSON_Corrector_prompt.format(bad_json=json_to_correct)\n",
    "    \n",
    "    for i in range(MAX_TRIES):\n",
    "        corrected_json = llm.invoke(correction_prompt).content\n",
    "        print(f\"Try {i}: output {corrected_json}\")\n",
    "        try:\n",
    "            corrected_json = json.loads(corrected_json)\n",
    "            print('SUCCESS')\n",
    "            break\n",
    "        except Exception as e:\n",
    "            print(e)\n",
    "            print('FAILED')\n",
    "            corrected_json = None\n",
    "            continue\n",
    "    return corrected_json"
   ]
  },
  {
   "cell_type": "code",
   "execution_count": 86,
   "metadata": {},
   "outputs": [
    {
     "name": "stdout",
     "output_type": "stream",
     "text": [
      "Try 0: output  {\n",
      "      \"question\": \"how do i make a cookie?\",\n",
      "      \"answer\": \"you bake it\"\n",
      "   }\n",
      "SUCCESS\n"
     ]
    },
    {
     "data": {
      "text/plain": [
       "{'question': 'how do i make a cookie?', 'answer': 'you bake it'}"
      ]
     },
     "execution_count": 86,
     "metadata": {},
     "output_type": "execute_result"
    }
   ],
   "source": [
    "json_corrector(llm_eval_generator, \"{question: 'how do i make a cookie?, 'answer':'you bake it'}\", 3)"
   ]
  },
  {
   "cell_type": "code",
   "execution_count": 107,
   "metadata": {},
   "outputs": [
    {
     "name": "stdout",
     "output_type": "stream",
     "text": [
      "Try 0: output  {\n",
      "      \"question\": \"Which religious groups embraced the practice of living in monasteries?\",\n",
      "      \"answer\": \"Monastic life was embraced by several religions, including Christianity and Buddhism.\"\n",
      "   }\n",
      "SUCCESS\n",
      "Try 0: output  {\n",
      "      \"question\": \"What does a well-built stone wall offer protection against in a civilization?\",\n",
      "      \"answer\": \"A well-built stone wall offers protection against raiders because it can be broken down only by a determined effort.\"\n",
      "   }\n",
      "SUCCESS\n"
     ]
    }
   ],
   "source": [
    "import json\n",
    "qas = []\n",
    "\n",
    "MAX_TRIES = 3\n",
    "for doc in docs_sample:\n",
    "    prompt = QA_generation_prompt.format(context=doc['page_content'])\n",
    "    tries = 0\n",
    "    qa = llm_eval_generator.invoke(prompt).content\n",
    "    try:\n",
    "        qa_dict = json.loads(qa)\n",
    "    except:\n",
    "        qa_dict = json_corrector(llm_eval_generator, qa, MAX_TRIES)\n",
    "    temp_doc = doc.copy()\n",
    "    temp_doc['evalqa'] = qa_dict\n",
    "    qas.append(temp_doc)\n",
    "        "
   ]
  },
  {
   "cell_type": "code",
   "execution_count": 104,
   "metadata": {},
   "outputs": [
    {
     "data": {
      "text/plain": [
       "{'page_content': 'invasion of 1066.  The Normans also invaded Sicily and southern Italy. Many of the Crusades involved sea\\nmovement from France to the Holy Land.  The English brought armies into France several times during theHundred Y ear’ s W ar .\\nDemolition Ship & Heavy Demolition Ship\\nFilled with explosives. Pilot near enemy ships and detonate to wrest\\ncontrol of the sea from an entrenched opponent.\\n/c66/c117/c105/c108/c116/c32/c97/c116 Dock',\n",
       " 'metadata': {'page': 86, 'source': 'docs/Age_of_Empires_2_Manual.pdf'},\n",
       " 'evalqa': {'question': 'Who were the Normans and where did they invade besides England in 1066?',\n",
       "  'answer': 'The Normans, also known as the Northmen, were a group of Vikings who settled in northern France. They invaded Sicily and southern Italy besides England in 1066.'}}"
      ]
     },
     "execution_count": 104,
     "metadata": {},
     "output_type": "execute_result"
    }
   ],
   "source": [
    "qas[6]"
   ]
  },
  {
   "cell_type": "markdown",
   "metadata": {},
   "source": [
    "Let's dump it into a JSON file and inspect it manually, we might need to remove some of the samples.\n",
    "We are striving to get a high quality evaluation set"
   ]
  },
  {
   "cell_type": "code",
   "execution_count": 108,
   "metadata": {},
   "outputs": [],
   "source": [
    "with open(\"eval_original.json\", \"w\") as f:\n",
    "    f.write(json.dumps(qas))"
   ]
  },
  {
   "cell_type": "markdown",
   "metadata": {},
   "source": [
    "From the original 30 questions, 5 were removed due to their poor quality. This poor quality questions were partialy due to problmes during the pdf parsing process. It was later found that this text was extracted from a table, which explains the lack of formatting and cohesiveness of the extracted text. More advanced techniques should be implemented in order to make this process better\n",
    "\n",
    "```json\n",
    "{\n",
    "        \"page_content\": \"BRACERDOUBLE-BIT AXECOINAGE BANKING\\nCARTOGRAPHYTRADE CART\\nBOW SAWHORSE COLLAR HEAVY PLOW\\nGUILDS\\nTWO-MAN SAWCROP ROTATION\\nWATCH TOWERFORTIFIED WALL\\nGUARD TOWER KEEPBOMBARDTOWERSTONE WALL\\nMILITIAFISHING SHIP\\nMAN-AT-ARMSTRACKING\\nSPEARMAN\\nELITESKIRMISHERCAVALRYARCHER\\nCROSSBOWMANHEAVY CAVALRYARCHER HANDCANNONEERARBALESTPIKEMAN SQUIRES\\nLONGSWORDSMANTWO-HANDEDSWORDSMANCHAMPIONKNIGHT CAVALIER PALADIN\",\n",
    "        \"metadata\": {\n",
    "            \"page\": 112,\n",
    "            \"source\": \"docs/Age_of_Empires_2_Manual.pdf\"\n",
    "        },\n",
    "        \"evalqa\": {\n",
    "            \"question\": \"What are the types of cavalry mentioned in the context?\",\n",
    "            \"answer\": \"The types of cavalry mentioned in the context are ARCHER, HEAVY CAVALRY, SKIRMISHER, and CROSSBOWMAN\"\n",
    "        }\n",
    "    }\n",
    "```"
   ]
  }
 ],
 "metadata": {
  "kernelspec": {
   "display_name": "localrag",
   "language": "python",
   "name": "python3"
  },
  "language_info": {
   "codemirror_mode": {
    "name": "ipython",
    "version": 3
   },
   "file_extension": ".py",
   "mimetype": "text/x-python",
   "name": "python",
   "nbconvert_exporter": "python",
   "pygments_lexer": "ipython3",
   "version": "3.12.4"
  }
 },
 "nbformat": 4,
 "nbformat_minor": 2
}

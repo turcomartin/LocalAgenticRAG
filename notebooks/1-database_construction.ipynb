{
 "cells": [
  {
   "cell_type": "code",
   "execution_count": 1,
   "metadata": {},
   "outputs": [],
   "source": [
    "%load_ext autoreload\n",
    "%autoreload 2"
   ]
  },
  {
   "cell_type": "markdown",
   "metadata": {},
   "source": [
    "Necessary dependencies"
   ]
  },
  {
   "cell_type": "code",
   "execution_count": 2,
   "metadata": {},
   "outputs": [],
   "source": [
    "# !pip install -U langchain_community tiktoken langchainhub langchain langgraph langchain-text-splitters\n",
    "# !pip install -U langchain-nomic\n",
    "# !pip install ollama\n",
    "# !pip install -qU langchain-ollama\n",
    "# !pip install --upgrade --quiet  rank_bm25 > /dev/null\n",
    "# !pip install -U langchain-community faiss-cpu langchain-openai tiktoken\n",
    "#!pip install --upgrade --quiet  scikit-learn\n",
    "# !pip install -U langchain-chroma"
   ]
  },
  {
   "cell_type": "code",
   "execution_count": 28,
   "metadata": {},
   "outputs": [],
   "source": [
    "from langchain.retrievers import EnsembleRetriever\n",
    "from langchain_core.retrievers import BaseRetriever\n",
    "from langchain_community.retrievers import BM25Retriever\n",
    "from langchain_community.retrievers import TFIDFRetriever\n",
    "from langchain_community.vectorstores import FAISS\n",
    "from langchain_chroma import Chroma\n",
    "from langchain_community.embeddings import OllamaEmbeddings"
   ]
  },
  {
   "cell_type": "markdown",
   "metadata": {},
   "source": [
    "## Preparing the data"
   ]
  },
  {
   "cell_type": "markdown",
   "metadata": {},
   "source": [
    "We will create chunks using **RecursiveCharacterTextSplitter**. We will also add the origin page for each chunk, so in the case of a search resulting in two or more chunks retrieved from the same page, we can retrieve the entire page to avoid losing too much context"
   ]
  },
  {
   "cell_type": "code",
   "execution_count": 6,
   "metadata": {},
   "outputs": [],
   "source": [
    "from langchain_text_splitters import RecursiveCharacterTextSplitter\n",
    "from langchain.document_loaders import PyPDFLoader"
   ]
  },
  {
   "cell_type": "code",
   "execution_count": 7,
   "metadata": {},
   "outputs": [],
   "source": [
    "# This ensures that all chunks are exactly 450 characters.\n",
    "# The last 50 characters of the chunk are actually the start of the next chunk, this helps to preserve cohesiveness between the chunks\n",
    "text_splitter = RecursiveCharacterTextSplitter(chunk_size=450,\n",
    "                                               chunk_overlap=50,\n",
    "                                               length_function=len,\n",
    "                                               is_separator_regex=False,\n",
    "                                               )"
   ]
  },
  {
   "cell_type": "markdown",
   "metadata": {},
   "source": [
    "### We are going to use the manual from the famous game Age of Empires 2"
   ]
  },
  {
   "cell_type": "code",
   "execution_count": 8,
   "metadata": {},
   "outputs": [],
   "source": [
    "aoe2 = PyPDFLoader(\"docs/Age_of_Empires_2_Manual.pdf\").load()"
   ]
  },
  {
   "cell_type": "code",
   "execution_count": 9,
   "metadata": {},
   "outputs": [
    {
     "data": {
      "text/plain": [
       "[Document(metadata={'source': 'docs/Age_of_Empires_2_Manual.pdf', 'page': 0}, page_content='Information in this document, including URL and other Internet Web site references, is subject to\\nchange without notice. The example companies, organizations, products, people and eventsdepicted herein are fictitious unless otherwise noted. No association with any real company,\\norganization, product, person or event is intended or should be inferred. Complying with all\\napplicable copyright laws is the responsibility of the user. Without limiting the rights undercopyright, no part of this document may be reproduced, stored in or introduced into a retrieval\\nsystem, or transmitted in any form or by any means (electronic, mechanical, photocopying,\\nrecording, or otherwise), or for any purpose, without the express written permission of MicrosoftCorporation.\\nMicrosoft may have patents, patent applications, trademarks, copyrights, or other intellectual\\nproperty rights covering subject matter in this document.  Except as expressly provided in anywritten license agreement from Microsoft, the furnishing of this document does not give you any\\nlicense to these patents, trademarks, copyrights, or other intellectual property.\\n© & \\n 1997–1999 Microsoft Corporation. All rights reserved.\\nMicrosoft, MS, Age of Empires, The Age of Kings, DirectDraw, DirectPlay, DirectSound, DirectX,\\nMSN, Windows, Windows NT and the Windows logo are either registered trademarks or trademarks\\nof Microsoft Corporation in the US and/or other countries.\\nDeveloped by Ensemble Studios Corp. for Microsoft Corporation.\\nGenie engine technology © Copyright 1995–1999 by Ensemble Studios Corp. All rights reserved.\\nThe names of actual companies and products mentioned herein may be the trademarks of their\\nrespective owners.\\n0899 Part No. X04-78896'),\n",
       " Document(metadata={'source': 'docs/Age_of_Empires_2_Manual.pdf', 'page': 1}, page_content='Chapter I: Getting Started\\nWhat’s new in Age of Empires II ............................................ 1\\nInstalling & starting ................................................................. 2How to play .............................................................................. 3Tips for beginners .................................................................... 10Options & hotkeys ....................................................................11Saving & exiting .......................................................................11\\nChapter II: Setting Up a Game\\nGame types ............................................................................. 12\\nChoosing a civilization ............................................................. 14Choosing a map ....................................................................... 15How to win .............................................................................. 16Multiplayer games .................................................................. 18Creating custom scenarios & campaigns .................................. 22\\nChapter III: Building Your Empire\\nPutting your villagers to work ............................................... 24\\nAdvancing to the next age ....................................................... 31Researching technology .......................................................... 33\\nChapter IV: Military Tactics\\nReconnaissance ...................................................................... 34\\nMoving units ......................................................................... 35Attacks .................................................................................... 37Garrisoning units & relics inside buildings .............................. 37Converting enemy units & buildings ....................................... 39Healing friendly units ............................................................. 40Ordering units to patrol, guard, or follow ............................... 40Combat stances ........................................................................ 41Formations ............................................................................. 42\\n'),\n",
       " Document(metadata={'source': 'docs/Age_of_Empires_2_Manual.pdf', 'page': 2}, page_content='Chapter V: Diplomacy & Trading\\nChoosing your allies & enemies .............................................. 44\\nTeam games ........................................................................... 45Sending tribute to other players .............................................. 46Trading .................................................................................. 46\\nChapter VI: Buildings\\nEconomic buildings ................................................................ 48\\nMilitary buildings .................................................................. 54\\nChapter VII : Units\\nInfantry .................................................................................. 59\\nArchers .................................................................................. 66Cavalry .................................................................................... 73Siege weapons ......................................................................... 78Ships ...................................................................................... 82Other units .............................................................................. 87\\nChapter VIII : Technologies\\nBuilding technologies ............................................................. 90\\nEconomy & trade technologies ................................................ 92Infantry technologies .............................................................. 98Missile/siege unit technologies .............................................. 100Cavalry technologies .............................................................. 103Monk technologies ................................................................ 104Ship technologies ................................................................... 106\\nAppendix\\nBuilding Attributes ................................................................ 107Unit Attributes ...................................................................... 108Technology Costs & Benefits.................................................. 110Technology Trees by Civilization ............................................ 112\\nIndex 138'),\n",
       " Document(metadata={'source': 'docs/Age_of_Empires_2_Manual.pdf', 'page': 3}, page_content=' 1Chapter I\\nAge of Empires® II: The Age of Kings™ is a game of combat and empire-\\nbuilding that spans the time from the fall of Rome through the Middle Ages.\\nYou control one of 13 civilizations, which you build into a powerful empire\\nthat strives to dominate other civilizations before they conquer you.G etting Started\\nWhat’s new in Age of Empires II\\nAge of Empires II: The Age of Kings includes these new features:\\nz13 new civilizations  — Each with a unique unit and a team bonus.\\nzNew units  — Including Kings, Heroes, female villagers, knights,\\ncannons, and exploding demolition ships.\\nzNew buildings  — Including impressive castles and gates that automati-\\ncally open and close for you and your allies.\\nzNew technologies  — Including Conscription (increases military unit\\ncreation speed) and T own Watch (increases building line of sight).\\nzFormations  — Precision control of how your army moves and engages in\\ncombat.\\nzNew multimedia campaigns  — Unique music and more than 300 pieces\\nof original art enhance your game as you follow a soldier through battles\\nfeaturing William Wallace, Joan of Arc, Saladin, Genghis Khan, and\\nFrederick Barbarossa.\\nzNew ways to trade  — Trade with other players over land and by sea; buy\\nor sell resources at the Market.\\nzLearning campaign  — Master the basics by helping William Wallace rise\\nfrom his humble beginnings to defeat the British.'),\n",
       " Document(metadata={'source': 'docs/Age_of_Empires_2_Manual.pdf', 'page': 4}, page_content='2 Chapter I  -  Getting Started\\nzRegicide game  — Defend your King to win the game.\\nz8 new map types  — Including Arabia, Black Forest, Rivers, and Random, which\\nallows the computer to pick a surprise map type for you.\\nzGarrisoning  — Station units inside buildings for protection, healing, and surprise\\nattacks.\\nzNew combat features  — Order military units to patrol, guard, or follow and choose\\ntheir combat stance.\\nzRecord and replay games — Watch your single-player and multiplayer games later.\\nzFind idle villagers  — Automatically locate villagers not assigned to a task using the\\nIdle Villager  button.\\nzNew online tech tree  — See what is available to your civilization and which units\\nand technologies you’ve researched while in the game.\\nzImproved multiplayer features  — Save and restore multiplayer games; lock the\\ngame speed for all players; lock game teams so players can’t change alliance during a\\ngame; signal allies.\\nzGather points  — New units automatically gather at a location or garrison inside a\\nbuilding.\\nzImproved interface  — Units behind buildings and trees are visible; the mini-map\\nhas Normal, Combat, and Economic modes; chat interface is expanded; Help is\\nintegrated into the game.\\nzUser profiles  — Customize options and hotkeys and automatically save them from\\ngame to game.\\nzOnline encyclopedia  — Extensive histories of 13 medieval civilizations; background\\non the Middle Ages, armies, weapons, and warfare.\\nInstalling & starting\\nTo install and start Age of Empires II\\nInsert the Age of Empires II CD into the CD-ROM drive, and then\\nfollow the instructions on the screen.\\nIf Setup does not begin automatically or if you have trouble starting Age\\nof Empires II, refer to the Readme file on the Age of Empires II CD.'),\n",
       " Document(metadata={'source': 'docs/Age_of_Empires_2_Manual.pdf', 'page': 5}, page_content=' 3How to play\\nThe easiest way to familiarize yourself with Age of Empires II is to start with the William\\nWallace learning campaign. You’ll master the basics of the game and learn about some of\\nthe new features in Age of Empires II.\\nIn a typical Random Map game, you begin in the Dark Age with a Town Center, a few\\nvillagers, and a Scout Cavalry unit. Your goal is to build a powerful empire capable ofconquering enemy civilizations. You can see only a small part of the map; most of it is\\nblack. You do not know where your opponents are. You build your civilization by\\ngathering natural resources, constructing buildings, creating an army, researchingtechnological improvements, and advancing from the Dark Age through the Feudal\\nAge, the Castle Age, and finally to the Imperial Age.\\nThe first thing you should do is explore the map for sources of food and wood. You can\\nexplore the map by moving your villagers and Scout Cavalry into the black area.To start the learning campaign\\nOn the main menu, click Learn to Play .\\nIf you’re a new player, click Marching and Fighting , and then\\nplay the rest of the scenarios in order. If you’re an experienced\\nAge of Empires player, you may want to start with Forge  an\\nAlliance and The Battle of Falkirk , which provide information\\nabout the new features in Age of Empires II.\\nAn overview of the basics\\nIn Age of Empires II: The Age of Kings, you command one of 13 medieval civilizations.\\nEach civilization has strengths and weaknesses that you use to your advantage to win. For\\nexample, the Byzantines build strong walls and are a good defensive civilization. For more\\ninformation on choosing a civilization, see Chapter II.\\nGetting started\\nRandom Map games are a common type of game in Age of Empires II. Every Random Map\\ngame is different because the map is never the same.\\nTo start a single-player Random\\nMap game\\nClick Single Player  on the main menu, click\\nRandom Map , and then choose the game\\nsettings. For help choosing the Random Mapsettings, hold your mouse pointer over any\\nitem on the screen to display information in\\nthe lower-right corner.'),\n",
       " Document(metadata={'source': 'docs/Age_of_Empires_2_Manual.pdf', 'page': 6}, page_content='4 Chapter I  -  Getting StartedTo move any unit\\nClick the unit, and then right-\\nclick any location on the map\\nor on the mini-map in the\\nlower-right corner.\\nStockpiling resources\\nAs you move your villagers and Scout Cavalry, you discover sources of food (foragebushes, sheep, deer, fish, wild boar — careful, the boar may attack!), wood (trees), stone(stone mines), and gold (gold mines). Your villagers gather resources from these sites so\\nyou can pay for improvements to your civilization. For more information about stockpil-\\ning resources, see Chapter III.\\nCreating new villagers\\nVillagers are a vital investment at the beginning of a game. The more villagers who aregathering resources, the faster your stockpile grows (and the faster you can build a\\npowerful civilization).To gather resources\\nClick a villager, and then right-click a forage bush or animal, tree, stone\\nmine, or gold mine.\\nThe villager gathers some of the resource and automatically carries it to your\\nTown Center, where it is deposited in your stockpile (the amount is shown in\\nthe upper-left corner of the screen).\\nTo create a villager\\nClick the Town Center, and then click\\nthe Create Villager  button.\\nAfter a few seconds, the villager appears near\\nyour Town Center and you can order it to\\ngather resources.'),\n",
       " Document(metadata={'source': 'docs/Age_of_Empires_2_Manual.pdf', 'page': 7}, page_content=' 5\\nSupporting your population\\nAs your population grows, you must build Houses to support it. Each House supports 5\\nunits. The Town Center also supports 5 units. A Castle supports up to 20 units. Before\\nyou can expand your population by creating new villagers, military units, or ships, you\\nmust have enough Houses to support them. The population indicator (upper-left cornerof the screen) shows your current population in relation to housing (current/supportable\\npopulation). For more information, see Chapter III.\\nTo build a House\\nClick a villager, click the Buildings\\nbutton, click the Build House\\nbutton, and then click a location on\\nthe map. If the building is flashing\\nred, it cannot be built there; try adifferent spot.\\nConstructing buildings\\nVillagers can deposit resources at the Town Center,the Mill, the Lumber Camp, and the Mining Camp.\\nConstructing these buildings near a resource\\ndecreases the distance your villagers walk, so yourstockpile grows more quickly.\\nTo build a Mill\\nClick a villager, click the Buildings  button,\\nclick the Build Mill  button, and then click\\na location near a forage bush. If the\\nbuilding is flashing red, it cannot be builtthere; try a different spot.\\nYou assign villagers to construct other buildings\\nin the same way. For more information about\\nconstructing buildings, see Chapter III.'),\n",
       " Document(metadata={'source': 'docs/Age_of_Empires_2_Manual.pdf', 'page': 8}, page_content='6 Chapter I  -  Getting StartedExploring\\nWhile your villagers are gathering resources, you can use your Scout Cavalry to explore\\nthe map. Scouts are ideal for exploring because they see farther and move faster than\\nvillagers. Keep an eye out for distant resources, forests, enemy towns, and cliffs you can\\nuse to protect yourself. Enemy buildings are not visible until you explore the area of themap where they are located. Beware of wolves, which may attack you and cannot be used\\nfor food.\\nAs a unit leaves an area, a semitransparent fog of war falls over the explored area. The fog\\nof war freezes the view of the area until another unit returns to that spot. For example, ifyour Scout Cavalry unit discovers an enemy building while exploring and then leaves the\\narea, the fog of war will show the building there (in its current state) until another one of\\nyour units returns to that spot (even if the building is upgraded or destroyed in the\\nmeantime). The fog of war is then lifted and the current terrain is revealed. For more\\ninformation about reconnaissance and terrain, see Chapter IV .\\nCreating an army\\nBefore you can create an army, you must\\nconstruct a Barracks.\\nTo build a Barracks\\nClick a villager, click the Military\\nBuildings  button, click the Barracks\\nbutton, and then click a location onthe map.\\nAfter the Barracks is complete, you can\\ncreate infantry units there. The first\\ninfantry unit you can create is a Militiaunit.To explore deep into the black\\narea of the map\\nClick your Scout Cavalry, and then\\nright-click a location on the map oron the mini-map in the lower-right\\ncorner of the screen.\\nYour Scout Cavalry unit will go to the\\nlocation, revealing part of the map as it\\nmoves.\\n'),\n",
       " Document(metadata={'source': 'docs/Age_of_Empires_2_Manual.pdf', 'page': 9}, page_content=' 7\\nAdvancing through the ages\\nThere are four ages: Dark Age, Feudal Age, Castle Age, and\\nImperial Age. Advancing to the next age lets you builddifferent buildings, create more powerful military units, and\\nresearch more valuable technologies. When you have 500\\nfood and have built two different Dark Age buildings (Mill,Barracks, Lumber Camp, Mining Camp, or Dock, but not\\nincluding Houses or your Town Center), you can advance to\\nthe Feudal Age.To create a Militia unit\\nClick the Barracks, and then click\\nthe Create Militia  button.\\nAfter a few seconds, the Militia unit\\nappears near your Barracks. When youadvance to the Feudal Age, you can\\nupgrade your Militia units and build an\\nArchery Range and Stable to createdifferent types of military units. For more\\ninformation about military tactics, see\\nChapter IV .\\nTo advance to the Feudal Age\\nAfter you have the required buildings and\\nfood, click the Town Center, and thenclick the Advance to Feudal Age  button.\\nAfter several seconds, your existing buildings\\nchange in appearance to Feudal Age buildings.If you click a villager now, you see that\\nadditional buildings are available in the lower-\\nleft corner of the game screen.  For moreinformation about advancing through the ages,\\nsee Chapter III.')]"
      ]
     },
     "execution_count": 9,
     "metadata": {},
     "output_type": "execute_result"
    }
   ],
   "source": [
    "# Sneak Peek\n",
    "aoe2[0:10]"
   ]
  },
  {
   "cell_type": "markdown",
   "metadata": {},
   "source": [
    "#### Let's chunk it and add the page number as metadata"
   ]
  },
  {
   "cell_type": "code",
   "execution_count": 10,
   "metadata": {},
   "outputs": [],
   "source": [
    "aoe2_chunks = []\n",
    "for page in aoe2:\n",
    "    aoe2_chunks.extend(text_splitter.create_documents([page.page_content], [page.metadata]))"
   ]
  },
  {
   "cell_type": "code",
   "execution_count": 27,
   "metadata": {},
   "outputs": [
    {
     "data": {
      "text/plain": [
       "[Document(metadata={'source': 'docs/Age_of_Empires_2_Manual.pdf', 'page': 0}, page_content='Information in this document, including URL and other Internet Web site references, is subject to\\nchange without notice. The example companies, organizations, products, people and eventsdepicted herein are fictitious unless otherwise noted. No association with any real company,\\norganization, product, person or event is intended or should be inferred. Complying with all'),\n",
       " Document(metadata={'source': 'docs/Age_of_Empires_2_Manual.pdf', 'page': 0}, page_content='applicable copyright laws is the responsibility of the user. Without limiting the rights undercopyright, no part of this document may be reproduced, stored in or introduced into a retrieval\\nsystem, or transmitted in any form or by any means (electronic, mechanical, photocopying,\\nrecording, or otherwise), or for any purpose, without the express written permission of MicrosoftCorporation.'),\n",
       " Document(metadata={'source': 'docs/Age_of_Empires_2_Manual.pdf', 'page': 0}, page_content='Microsoft may have patents, patent applications, trademarks, copyrights, or other intellectual\\nproperty rights covering subject matter in this document.  Except as expressly provided in anywritten license agreement from Microsoft, the furnishing of this document does not give you any\\nlicense to these patents, trademarks, copyrights, or other intellectual property.\\n© & \\n 1997–1999 Microsoft Corporation. All rights reserved.'),\n",
       " Document(metadata={'source': 'docs/Age_of_Empires_2_Manual.pdf', 'page': 0}, page_content='Microsoft, MS, Age of Empires, The Age of Kings, DirectDraw, DirectPlay, DirectSound, DirectX,\\nMSN, Windows, Windows NT and the Windows logo are either registered trademarks or trademarks\\nof Microsoft Corporation in the US and/or other countries.\\nDeveloped by Ensemble Studios Corp. for Microsoft Corporation.\\nGenie engine technology © Copyright 1995–1999 by Ensemble Studios Corp. All rights reserved.'),\n",
       " Document(metadata={'source': 'docs/Age_of_Empires_2_Manual.pdf', 'page': 0}, page_content='The names of actual companies and products mentioned herein may be the trademarks of their\\nrespective owners.\\n0899 Part No. X04-78896'),\n",
       " Document(metadata={'source': 'docs/Age_of_Empires_2_Manual.pdf', 'page': 1}, page_content='Chapter I: Getting Started\\nWhat’s new in Age of Empires II ............................................ 1'),\n",
       " Document(metadata={'source': 'docs/Age_of_Empires_2_Manual.pdf', 'page': 1}, page_content='Installing & starting ................................................................. 2How to play .............................................................................. 3Tips for beginners .................................................................... 10Options & hotkeys ....................................................................11Saving & exiting .......................................................................11'),\n",
       " Document(metadata={'source': 'docs/Age_of_Empires_2_Manual.pdf', 'page': 1}, page_content='Chapter II: Setting Up a Game\\nGame types ............................................................................. 12'),\n",
       " Document(metadata={'source': 'docs/Age_of_Empires_2_Manual.pdf', 'page': 1}, page_content='Choosing a civilization ............................................................. 14Choosing a map ....................................................................... 15How to win .............................................................................. 16Multiplayer games .................................................................. 18Creating custom scenarios & campaigns .................................. 22'),\n",
       " Document(metadata={'source': 'docs/Age_of_Empires_2_Manual.pdf', 'page': 1}, page_content='Chapter III: Building Your Empire\\nPutting your villagers to work ............................................... 24\\nAdvancing to the next age ....................................................... 31Researching technology .......................................................... 33\\nChapter IV: Military Tactics\\nReconnaissance ...................................................................... 34')]"
      ]
     },
     "execution_count": 27,
     "metadata": {},
     "output_type": "execute_result"
    }
   ],
   "source": [
    "aoe2_chunks[:10]"
   ]
  },
  {
   "cell_type": "code",
   "execution_count": 12,
   "metadata": {},
   "outputs": [
    {
     "data": {
      "text/plain": [
       "749"
      ]
     },
     "execution_count": 12,
     "metadata": {},
     "output_type": "execute_result"
    }
   ],
   "source": [
    "len(aoe2_chunks)"
   ]
  },
  {
   "cell_type": "markdown",
   "metadata": {},
   "source": [
    "# BM25\n",
    "Unfortunately the BM25 retriever provided by langchain can't be save locally. We would need to reconstruct it later."
   ]
  },
  {
   "cell_type": "code",
   "execution_count": 13,
   "metadata": {},
   "outputs": [],
   "source": [
    "# BM25 Inverted Index\n",
    "bm25_retriever = BM25Retriever.from_documents(aoe2_chunks)"
   ]
  },
  {
   "cell_type": "code",
   "execution_count": 14,
   "metadata": {},
   "outputs": [
    {
     "data": {
      "text/plain": [
       "[Document(metadata={'source': 'docs/Age_of_Empires_2_Manual.pdf', 'page': 89}, page_content='Stone Mining, Gold Mining, Stone Shaft Mining, Gold ShaftMining (Lumber Camp, Mining Camp); Heavy Plow (Town\\nCenter)\\nBuild speed — Treadmill Crane (University)\\nYour units resistant to other Monks — Faith (Monastery)\\nVillagers perform the economic work for your civilization. They chop wood, mine stone'),\n",
       " Document(metadata={'source': 'docs/Age_of_Empires_2_Manual.pdf', 'page': 28}, page_content='The more villagers at work gathering resources, the faster your stockpile grows. Villagers\\ncan deposit the resources more quickly if you build Mills near sources of food, LumberCamps near forests, and Mining Camps near stone and gold mines.\\nResearching the following technologies improves your villagers’ gathering abilities:'),\n",
       " Document(metadata={'source': 'docs/Age_of_Empires_2_Manual.pdf', 'page': 117}, page_content='ARCHERVILLAGER(MALE)VILLAGER(FEMALE)\\nTRADE COG\\nSCOUT CAVALRYTRANSPORTSHIPGALLEYFISH TRAP\\nFAST FIRE SHIPHEAVYDEMO SHIPGALLEONDRY DOCK\\nCANNONGALLEON\\nWONDERSHIPWRIGHTCONSCRIPTIONSPIES/TREASONGoths\\nCIVILIZATION ATTRIBUTES\\nz Infantry cost -10% Feudal Age, -15% Castle Age, \\n-25% Imperial Age \\nz Infantry +1 attack vs. buildings \\nz Villagers +5 attack vs. wild boar\\nz +10 population Imperial AgeUnique Unit: Huskarl\\nTeam Bonus: Barracks 20% faster'),\n",
       " Document(metadata={'source': 'docs/Age_of_Empires_2_Manual.pdf', 'page': 27}, page_content='Mining Camp, whichever\\nis closer.\\nStockpiling resources\\nResources (wood, food, gold, and stone are\\nthe building blocks of your civilization. Villagers gather\\nthese resources from the land and deposit them in your stockpile (shown in the upper-leftcorner of the screen). You use the resources in your stockpile to pay for new villagers,\\nsoldiers, buildings, and technologies as you build your empire.'),\n",
       " Document(metadata={'source': 'docs/Age_of_Empires_2_Manual.pdf', 'page': 7}, page_content='Constructing buildings\\nVillagers can deposit resources at the Town Center,the Mill, the Lumber Camp, and the Mining Camp.\\nConstructing these buildings near a resource\\ndecreases the distance your villagers walk, so yourstockpile grows more quickly.\\nTo build a Mill\\nClick a villager, click the Buildings  button,\\nclick the Build Mill  button, and then click\\na location near a forage bush. If the'),\n",
       " Document(metadata={'source': 'docs/Age_of_Empires_2_Manual.pdf', 'page': 111}, page_content='Conscription IV 150F, 150G +33% unit creation speed at Barracks, Stable,\\nArchery Range, Castle\\nSpies/Treason IV 200G/enemy See enemy LOS and exploration/see enemy\\nvillager; 400G/use Kings’ locations\\nSappers IV 400F, 200G Villagers +15 attack vs. buildings\\nMONK TECHNOLOGIES\\nFervor III 140G +15% Monk speed\\nSanctity III 120G +50% Monk HPs\\nRedemption III 475G Convert buildings (except walls, Gates,\\nTown Centers, Monasteries, Castles, Farms,'),\n",
       " Document(metadata={'source': 'docs/Age_of_Empires_2_Manual.pdf', 'page': 31}, page_content='29Creating villagers\\nVillagers are created at the Town Center.\\nTo create a villager\\nClick the Town Center, and then click Create Villager .\\nAfter a few seconds, the villager appears near the TownCenter.\\nCreating military units\\nBefore you can create military units, you must build the appropriate military building.The Barracks is used to create infantry and is required before you can build other military'),\n",
       " Document(metadata={'source': 'docs/Age_of_Empires_2_Manual.pdf', 'page': 26}, page_content='24 Chapter III  -  Building Your EmpireChapter III\\nPutting your villagers to work\\nVillagers are invaluable to your civilization. Their primary function\\nis to gather wood, food, gold, and stone from the land and deposit it\\nin your stockpile. They also construct buildings and repair damaged\\nbuildings, boats, and siege weapons. In a pinch, they can evenengage in combat. Fishing Ships also contribute to population count'),\n",
       " Document(metadata={'source': 'docs/Age_of_Empires_2_Manual.pdf', 'page': 6}, page_content='you can pay for improvements to your civilization. For more information about stockpil-\\ning resources, see Chapter III.\\nCreating new villagers\\nVillagers are a vital investment at the beginning of a game. The more villagers who aregathering resources, the faster your stockpile grows (and the faster you can build a\\npowerful civilization).To gather resources\\nClick a villager, and then right-click a forage bush or animal, tree, stone'),\n",
       " Document(metadata={'source': 'docs/Age_of_Empires_2_Manual.pdf', 'page': 51}, page_content='49Each Town Center supports 5 population units and can garrison 15 villagers or soldiers\\ninside for protection and healing. Town Centers with garrisoned units also fire arrows at\\nenemy soldiers. After you advance to the Castle Age, you can build additional Town\\nCenters near remote resources to expand your civilization. Town Centers cannot beconverted by enemy Monks.')]"
      ]
     },
     "execution_count": 14,
     "metadata": {},
     "output_type": "execute_result"
    }
   ],
   "source": [
    "bm25_retriever.k = 10\n",
    "bm25_retriever.invoke(\"Villagers\")"
   ]
  },
  {
   "cell_type": "markdown",
   "metadata": {},
   "source": [
    "# TF-IDF\n",
    "For this example, it will suffice to use TF-IDF\n",
    "\n",
    "https://python.langchain.com/v0.2/docs/integrations/retrievers/tf_idf/"
   ]
  },
  {
   "cell_type": "code",
   "execution_count": 15,
   "metadata": {},
   "outputs": [],
   "source": [
    "tfidf_retriever = TFIDFRetriever.from_documents(aoe2_chunks)"
   ]
  },
  {
   "cell_type": "code",
   "execution_count": 17,
   "metadata": {},
   "outputs": [
    {
     "data": {
      "text/plain": [
       "[Document(metadata={'source': 'docs/Age_of_Empires_2_Manual.pdf', 'page': 50}, page_content='see Chapters III and IV):\\nz Create new villagers.\\nz Deposit all resources (wood, food, gold, and stone) into your stockpile.\\nz Advance to the next age.\\nz Research technology that improves your villagers and buildings.\\nz Ring the town bell to garrison villagers safely inside during enemy\\nattack.B uildings'),\n",
       " Document(metadata={'source': 'docs/Age_of_Empires_2_Manual.pdf', 'page': 28}, page_content='The more villagers at work gathering resources, the faster your stockpile grows. Villagers\\ncan deposit the resources more quickly if you build Mills near sources of food, LumberCamps near forests, and Mining Camps near stone and gold mines.\\nResearching the following technologies improves your villagers’ gathering abilities:'),\n",
       " Document(metadata={'source': 'docs/Age_of_Empires_2_Manual.pdf', 'page': 6}, page_content='you can pay for improvements to your civilization. For more information about stockpil-\\ning resources, see Chapter III.\\nCreating new villagers\\nVillagers are a vital investment at the beginning of a game. The more villagers who aregathering resources, the faster your stockpile grows (and the faster you can build a\\npowerful civilization).To gather resources\\nClick a villager, and then right-click a forage bush or animal, tree, stone'),\n",
       " Document(metadata={'source': 'docs/Age_of_Empires_2_Manual.pdf', 'page': 37}, page_content='a group), and then right-click a location.\\nHow quickly villagers, military units, and ships move depends on the speed of the unit,\\nthe game speed (within the game, click the Menu  button, and then click Options ), and\\nother units in the formation (if any) as described above.\\nGrouping units\\nGrouping lets you command several villagers,\\nmilitary units, or ships at the same time.\\nTo select multiple units\\nDrag the pointer around the villagers,'),\n",
       " Document(metadata={'source': 'docs/Age_of_Empires_2_Manual.pdf', 'page': 12}, page_content='10 Chapter I  -  Getting StartedTips for beginners\\nHere are some tips for beginners playing a typical Random Map game, where you\\nstart in the Dark Age with a few villagers and build a powerful civilization.\\nz Concentrate on gathering food and wood first. Use it to create new villagers'),\n",
       " Document(metadata={'source': 'docs/Age_of_Empires_2_Manual.pdf', 'page': 8}, page_content='6 Chapter I  -  Getting StartedExploring\\nWhile your villagers are gathering resources, you can use your Scout Cavalry to explore\\nthe map. Scouts are ideal for exploring because they see farther and move faster than\\nvillagers. Keep an eye out for distant resources, forests, enemy towns, and cliffs you can'),\n",
       " Document(metadata={'source': 'docs/Age_of_Empires_2_Manual.pdf', 'page': 27}, page_content='Mining Camp, whichever\\nis closer.\\nStockpiling resources\\nResources (wood, food, gold, and stone are\\nthe building blocks of your civilization. Villagers gather\\nthese resources from the land and deposit them in your stockpile (shown in the upper-leftcorner of the screen). You use the resources in your stockpile to pay for new villagers,\\nsoldiers, buildings, and technologies as you build your empire.'),\n",
       " Document(metadata={'source': 'docs/Age_of_Empires_2_Manual.pdf', 'page': 32}, page_content='gather. For example, if you are creating villagers at the Town Center, you might set a\\ngather point at a forage bush so the villagers automatically forage for food as soon as they\\nare created. Or you can set a gather point on a military building to garrison newly createdunits inside that building. This feature is useful for generating a defensive army when your'),\n",
       " Document(metadata={'source': 'docs/Age_of_Empires_2_Manual.pdf', 'page': 35}, page_content='villagers harder to kill. After you advance to the next age, you can research additional\\ntechnologies to make your villagers work more efficiently and improve your military units.Researching technology takes time and costs resources, but after you have researched a\\ntechnology your civilization immediately begins reaping its benefits.\\nSome technologies are related and build on each other from one age to the next. For'),\n",
       " Document(metadata={'source': 'docs/Age_of_Empires_2_Manual.pdf', 'page': 26}, page_content='24 Chapter III  -  Building Your EmpireChapter III\\nPutting your villagers to work\\nVillagers are invaluable to your civilization. Their primary function\\nis to gather wood, food, gold, and stone from the land and deposit it\\nin your stockpile. They also construct buildings and repair damaged\\nbuildings, boats, and siege weapons. In a pinch, they can evenengage in combat. Fishing Ships also contribute to population count')]"
      ]
     },
     "execution_count": 17,
     "metadata": {},
     "output_type": "execute_result"
    }
   ],
   "source": [
    "tfidf_retriever.k = 10\n",
    "tfidf_retriever.invoke(\"Villagers\")"
   ]
  },
  {
   "cell_type": "code",
   "execution_count": 16,
   "metadata": {},
   "outputs": [],
   "source": [
    "# Save\n",
    "tfidf_retriever.save_local(\"tfidf_aoe2.pkl\")"
   ]
  },
  {
   "cell_type": "markdown",
   "metadata": {},
   "source": [
    "# Indexing with Dense vectors\n",
    "\n",
    "We will be using the embeddings from nomic"
   ]
  },
  {
   "cell_type": "code",
   "execution_count": 18,
   "metadata": {},
   "outputs": [],
   "source": [
    "embedding = OllamaEmbeddings(model=\"nomic-embed-text:latest\")  # 768 dims"
   ]
  },
  {
   "cell_type": "markdown",
   "metadata": {},
   "source": [
    "# Chroma\n",
    "Chroma DB implements **ANN** vis **HNSW**"
   ]
  },
  {
   "cell_type": "code",
   "execution_count": 50,
   "metadata": {},
   "outputs": [
    {
     "data": {
      "text/plain": [
       "['03deb97d-80a9-4823-887c-3cc15e7a9d79',\n",
       " '514cd30a-ef39-486e-ab5b-9a9131f49423',\n",
       " 'add713c6-6627-4fbb-8ec7-b50a093aee30',\n",
       " '78a3600c-8277-455a-aaea-b987e5a58ffa',\n",
       " '37b6f517-2004-43e6-8b1d-0ed217ce277d',\n",
       " 'edf65033-ef50-43c0-89da-4e9be32f0321',\n",
       " 'bc96adfa-958a-41df-86d3-98c2742f8d2f',\n",
       " '952c5a9b-d971-4651-aff6-252a6a9ea72f',\n",
       " '17dd9cdb-2c11-4f8c-9b8b-4ce1b6465ded',\n",
       " '5eeeb8ee-8847-4cf5-9974-82437e310d06',\n",
       " 'cfa6a5fa-8005-43e5-b2b5-aa6e1e4e4fcc',\n",
       " '42be01ad-3a6c-4114-8960-7bd42327d161',\n",
       " '58984a19-597f-4d54-9c28-f2ecf7373c87',\n",
       " 'd81f5893-6525-4175-a7c2-85a6006f3a0b',\n",
       " '0a6c2d1b-4912-4a36-a921-bcdfa2ba6b41',\n",
       " 'af2bbdfc-bfaf-4464-9b5e-8cd351e71951',\n",
       " '384c42c8-479b-4380-9108-f9891305c686',\n",
       " '6cdb0b91-9a7a-448d-bac9-e42eee07ffcd',\n",
       " 'e9053da1-5fbf-46b5-90a4-adc8ff254927',\n",
       " 'af1c218c-04ca-4aa9-98db-fd6df39efa57',\n",
       " '72c307ef-bbe1-4804-9766-55b9288103e1',\n",
       " '58eb8e47-2af9-4249-89b4-c8b06c7ec0a8',\n",
       " '1d89b75c-0ded-4d13-8012-4f9108c2438e',\n",
       " '291ddf33-41c2-42a3-b0b7-b1570d9dcf65',\n",
       " 'a4d0de78-08bc-47e5-bcf1-003207d04ee6',\n",
       " '496911d7-3b8d-4a42-8e4d-54be52b9d5ef',\n",
       " 'be244e3e-0a10-4f32-9e76-00e564b784cc',\n",
       " '0d82ca70-17f9-47fa-ad03-dd16220b2594',\n",
       " '29682aa0-c645-4b08-a692-312eceb89c5e',\n",
       " 'a0e2aaef-dd96-4235-bd56-270497e34851',\n",
       " '6f7e2e0c-30fc-465b-bd3e-54cb99e2599c',\n",
       " 'ba21b490-6126-4df4-aa52-a26ab3088b24',\n",
       " 'a3e8f5f5-b13b-4a35-ae7a-2148b5d84668',\n",
       " '20940582-35c4-46c1-a4bb-3b6384fe5fda',\n",
       " '3875bbea-b427-4b3d-8665-265be20822c3',\n",
       " '41855d0a-5a95-4cf7-99c1-ad7d7ea56714',\n",
       " '755d9e2e-4885-46dd-bac1-8a82bfe4e2be',\n",
       " '42a9ad7d-7a4a-434f-af33-6ad5c474a671',\n",
       " '6dcc82d2-d15b-496a-9867-b699b0c522cd',\n",
       " 'bffb22cb-3d4a-40ff-8a17-198d4f14df61',\n",
       " '856255e7-8ea8-487a-9baa-8c83be1d91f8',\n",
       " 'c59d3a4e-ecbd-46df-ae6d-2cb67d6e36bd',\n",
       " 'fe855419-e290-4622-8ff6-9abf60217ef1',\n",
       " 'f8a41a85-3c73-4a7b-b4bf-2c9a41ee6a99',\n",
       " 'df09dd27-6eb1-42d5-9938-11719ca75fc1',\n",
       " '3d2d4d98-838c-496a-a204-baac4f09efec',\n",
       " '56149d12-02dc-460e-b6cf-732e1e81772f',\n",
       " '9361203c-f4af-4e56-8c80-aa5de37e2aa5',\n",
       " '69fc5052-a090-4a93-a4ae-fac820f7ee79',\n",
       " '0f6b0a4a-d4e5-404c-9663-2b9196be3008',\n",
       " 'c0d4cc16-4818-41fe-bb6b-3b97254bf0a5',\n",
       " '2f625f5b-ad72-4f7a-ae92-9d2625c06198',\n",
       " '773eaf93-6a59-4969-9c0a-e49b80c3d48e',\n",
       " '506b4a7b-cfe5-4dfb-adfd-b3c175e38051',\n",
       " '62c2df1b-4d67-42a6-8684-804051fd7cf3',\n",
       " '1a4baa54-6c6c-41f1-a5c3-178eec3541d5',\n",
       " '51c66ab4-a3b1-4c61-96d2-c09276f95ca3',\n",
       " 'f07cdde6-cfab-4c47-8efb-85c38c6d0f7e',\n",
       " '2272332d-4590-4500-b0a2-a396f6e658af',\n",
       " '2fb1a92e-7a5e-4818-ab5d-7d530d264c07',\n",
       " '5dad3356-e147-4a8a-b662-89d30077bd1c',\n",
       " '65ceada4-43b2-423e-8016-69b1bf9f5a23',\n",
       " '4b2082f3-a13b-482a-9ab2-e4aaa4b839a1',\n",
       " 'f8e23f48-4b28-4335-87a7-14ad09045031',\n",
       " '615f97e5-9ea6-4200-846c-248c0b345829',\n",
       " '42bd6c98-3dc7-4ebe-ab83-3fdabd6554c8',\n",
       " '40bb0a31-df5d-476b-a0c0-041d915dd837',\n",
       " '25ac2cb9-a668-41db-a28c-7ec3b452897c',\n",
       " '1e8ede71-0e6e-4fcb-88ce-d46e719d5b7a',\n",
       " '4bc5d4a2-d38f-4681-b86d-be11d4e122e6',\n",
       " '59f6d8a7-75f6-4520-8bc1-17b99e05df4f',\n",
       " 'ae2e20c9-fcaf-4ee3-bb0c-e5f52b965ed2',\n",
       " '03a3c512-a29d-4b55-99c4-b48e9e2ae75c',\n",
       " '3eca8439-ae00-4906-b328-e2afa96b499d',\n",
       " 'ebaf8ff7-23a4-49cc-9359-605a2ad97b60',\n",
       " '6983e00d-9df7-42e0-803a-a7be7cf4febc',\n",
       " 'e0c23bc0-c2af-412d-9573-123bfadbb653',\n",
       " 'c6824fb0-4cbc-4dde-aa33-e195b775dd9d',\n",
       " '4de6bb23-c792-46bd-b2a0-987bf14c5709',\n",
       " '8c11f7c8-d271-4f26-bf74-13906b882e34',\n",
       " '95e70f9c-9e43-4153-b04a-b086a81658a5',\n",
       " '0ea1f6dd-17c4-4fb9-a363-4a4348c986d2',\n",
       " 'df5f120f-93c6-4264-a0dc-097a6cb29512',\n",
       " '55e7ac91-e5d7-425b-9434-4fd2bcfb0a96',\n",
       " '11485ca1-dbe8-48e9-88ff-b7cbd0542188',\n",
       " '81cefb97-c3b7-43ac-9d64-d06246d53181',\n",
       " '6b20c875-ab59-415e-a276-5ded6f07bd18',\n",
       " 'e2a193f5-2cb3-4d3e-85b1-ed9aa2241758',\n",
       " 'ef742e3d-ab2b-4b16-8a3f-62dd3ecd85f1',\n",
       " 'f955a752-e626-4495-88a3-e67e18f0d2c4',\n",
       " '42c12483-d700-43ac-8114-a751bdb12960',\n",
       " 'd3143e3b-7d6f-44ab-9315-08998b357d02',\n",
       " '54ca388e-a250-44d5-a346-d7b3fe991aff',\n",
       " '3a0448bc-1cec-4953-8de2-96cd08701a14',\n",
       " '248b19f1-dee9-4a2a-9cb8-97040fb37a3e',\n",
       " 'd694ca3e-11da-46be-8c86-0f51c25a8d20',\n",
       " '83ec240c-d385-4199-89e5-8aedb2295532',\n",
       " '6ecdaf45-d93f-4cec-be84-098d8d459f89',\n",
       " 'e5e05bc7-4266-4937-afec-903001dea2d2',\n",
       " '7c5bca0c-b52e-49f4-aa67-0edbc683567c',\n",
       " 'b9015f07-0723-482b-ab34-decc7122dd72',\n",
       " 'dd546e0b-7044-4b07-9c78-9a3deed3608b',\n",
       " '503ffe8f-19ea-4f0e-accc-caf288d972ab',\n",
       " 'b11dfe6b-e3d4-40e3-acd6-669f2902d997',\n",
       " '2d131c75-0800-4244-8f1d-254455ce46ca',\n",
       " '2f0e22ab-cb4a-4910-aa4b-986643aed803',\n",
       " 'a15a2eb9-bccf-440d-8ef2-5e1ae3612bbb',\n",
       " 'd83a45c7-439d-4c17-8dbc-126f54db00c9',\n",
       " 'a3eb9c1d-a169-4b32-9fb3-67e744df4214',\n",
       " 'b63e44ac-e8e9-454a-bcd5-98efa62c6a86',\n",
       " '2da6f64a-6408-4847-9879-f86c09857496',\n",
       " 'e38e444f-fa07-430a-bd95-864c7286d6bf',\n",
       " '50702acb-ad79-4845-a82c-53026e6a2be7',\n",
       " '49bf0453-da55-4d05-9fea-713bf44d14fe',\n",
       " 'b4712786-035f-49f3-8b48-1fcbab0fc3c8',\n",
       " '0221e1ea-b4cc-449b-8015-9c3dff891c9a',\n",
       " '5446caf9-fa5d-4d99-8697-6655c5530c8a',\n",
       " 'bacb842d-4e40-4b59-a78f-02466e6850d3',\n",
       " 'cc6ffbaf-e442-4214-9d4f-947222f1f7b0',\n",
       " '92707685-9a23-49dc-85ef-104db58c1cc7',\n",
       " 'e247597a-d77f-4a5a-9bb6-26bf989a6851',\n",
       " '634e5c61-7877-49df-9ce0-a5f07cb5d232',\n",
       " 'f72dc063-ed7d-4fed-91f8-577f7d3fc777',\n",
       " 'af289105-6a59-4698-b3c7-e409ada191fd',\n",
       " 'cf854eb3-7dbd-461f-96f0-34b2f97c4def',\n",
       " 'e3e1c2bf-1a11-4c78-a519-a6859dc72c26',\n",
       " '1616791e-ffad-4eda-b656-9f2286fce1ef',\n",
       " '56829ce5-03b9-4c4a-9f75-d38bb07c723a',\n",
       " '7638e4df-e9c9-4096-beea-b0ab6303bcc1',\n",
       " '95ff7c2f-59b1-465e-b574-95343a5dfc39',\n",
       " '9881949d-cfcc-4bec-bbef-37a744404cdd',\n",
       " 'a8feeb31-c1dc-46ce-a16e-ef56029c63b8',\n",
       " 'e452b8f1-9984-4809-b06c-787cc656233c',\n",
       " '3f62c5fe-19b0-4812-a07d-189604cdd9e9',\n",
       " 'e27a5380-5dd0-450e-915c-f90c388fc190',\n",
       " '8a7c156c-441e-41a8-8f9b-ff76223f6f49',\n",
       " 'd875888a-f25c-4b25-959b-4810768a2d0a',\n",
       " 'c572ebc1-1233-4c45-8dbf-bbebbbd3c292',\n",
       " '6dde34a5-30e8-4c1a-8a05-83ce230951ae',\n",
       " '13938ec5-d0ff-4c49-8590-c1db1107d037',\n",
       " '59e5fc6b-e1ea-49fa-867c-b2f6963911f7',\n",
       " 'b7056a75-5961-4043-8b1d-c8f06dcbaad8',\n",
       " '86c6b417-cf80-4dac-8700-c379b8819cc6',\n",
       " '8eb52ebd-7821-4b92-91b6-012a8f7c3d4a',\n",
       " 'b9346981-0932-4976-a31c-a775371acfee',\n",
       " '66869096-e609-4980-b76c-710f93ec0bc8',\n",
       " 'ff1cb931-5aaa-43f4-b89b-f89cb1094c26',\n",
       " 'b9d262e6-1c16-4e7e-bb92-0f82e651ac6a',\n",
       " '1f22550c-3393-4b91-8754-1114a850df23',\n",
       " 'f53b9c97-7be3-4f5d-971e-d95be89336f1',\n",
       " 'c74b6b0a-634b-46d9-9775-e03a8dbd551c',\n",
       " 'd7d6c8de-3520-49e8-b76b-67c5271e31f3',\n",
       " 'b0456845-fb76-4b61-84d3-e0392c005164',\n",
       " '5cd5cd01-ea90-4db0-88ab-82f166e198d5',\n",
       " 'b58d77b0-fff5-4427-a76c-3b680529baee',\n",
       " '0547272a-5813-4612-88cf-eea3b34d877a',\n",
       " '22ee6a74-3b40-4791-9062-51750fbe7384',\n",
       " '8459af26-57c0-402b-96a5-ffe9e2581c6b',\n",
       " '3d8dcc45-48cf-4410-9532-1245a3bb1cba',\n",
       " 'c1f623f7-4ab1-4a34-8902-4218af579ee7',\n",
       " '572fd9f9-be5e-4da1-ab62-6369d9780ae6',\n",
       " '64a65b9b-a581-4db7-85bd-a77e91e89458',\n",
       " '7c3ac92c-87d3-452a-9246-271e9f1a45bd',\n",
       " '15b68bcb-c6f1-41df-a89b-507f00887d5c',\n",
       " 'e79e10e6-30c9-4947-839b-e377c59a4f1b',\n",
       " 'f3db6a94-13bd-4b18-86ee-217d8bd1bc5a',\n",
       " '75481908-9a80-4f4b-abfa-4381636d5178',\n",
       " '9741343f-4102-439a-9720-160ec33762be',\n",
       " '68417f40-e322-4001-8b19-b9fe3ffa7f13',\n",
       " '33ec95a2-2132-4e9d-911f-a5a6ecd6487d',\n",
       " '5ccee73a-f839-4922-a0af-6b351de89989',\n",
       " '61a8dfef-b6d0-43ff-9cf7-f1b0ad680535',\n",
       " 'cfd7d026-4a8f-4537-b551-ca357253faea',\n",
       " '856f8e9a-452d-46c4-ba1a-00f491eee21f',\n",
       " '2750a8dc-29b0-42cf-a135-9ff06c8b4bb5',\n",
       " '0a25567e-dfa4-4722-8ac1-2f108ddaa846',\n",
       " '7d4e0bfd-4036-42e7-8faa-c46680735925',\n",
       " 'e1919fdd-9d06-48dc-b8b6-2fffbc76c6e0',\n",
       " '253c5f91-ea61-4c8a-89bf-684e90a5fba1',\n",
       " '327dda7b-b994-43a8-88fb-6dee2183f494',\n",
       " '7cc3b6b4-3381-4fa2-a7db-f879e10d4046',\n",
       " '9e86fddb-7784-4c2a-9aec-7e5dc1c51aa3',\n",
       " 'fac70471-dbd4-4050-a73e-a46bbdf7d854',\n",
       " '453c6ffe-0625-4fe6-aff4-2b6a53594ce4',\n",
       " '400b3ec8-c6af-47dd-a254-3b7f813a528d',\n",
       " '858fa7d7-5956-4071-afc2-b2d3082990b3',\n",
       " '22e303fc-a356-427c-a981-7934c15f66f4',\n",
       " 'de907b0e-2244-4d1e-a9c9-0e0860f0fb98',\n",
       " '42f4a17a-bdd1-4afc-ac37-f917e90255cc',\n",
       " '46e9ce8b-5074-4875-afba-647fd6214ac8',\n",
       " 'e45f830c-3919-421e-82db-0882db213a12',\n",
       " 'baea530a-d8e5-422f-ae5e-43e0bcb78fb8',\n",
       " '235c38c3-64b8-49f1-893c-efdf8d20535e',\n",
       " '5160b3db-6f0d-4c61-871e-a6ec2087c037',\n",
       " '1b8e9a3b-efda-4763-b5de-f335c77558b9',\n",
       " 'a41a8771-897f-46a9-8de0-766c8195fe29',\n",
       " 'e2622b6a-e8b4-4fd6-94ed-c83f2edf612c',\n",
       " 'd218019f-de6c-4f3d-9870-f88806a6f4ca',\n",
       " 'b66eab47-5d37-4a12-adb8-981be5289f0d',\n",
       " '3590e18f-7e30-4f12-b2c8-e3765705209b',\n",
       " '98753b96-546a-46c8-bbd3-de4135ac5453',\n",
       " '62b78750-13b9-411c-bfc7-5bc1954f32fe',\n",
       " '518608a9-f566-43b8-be2c-cf413c9d36b2',\n",
       " 'a114d1ab-3c8f-4a96-9085-acad5793bac3',\n",
       " '6c51313b-1840-4a23-9d8a-7f053b389df6',\n",
       " '625bd244-333b-4fa5-aaad-8a8fee3f119a',\n",
       " 'd393641d-dcbd-4fcc-8f3e-91407a929031',\n",
       " '0890cb7c-c9ff-41d7-afea-2028d96281e1',\n",
       " 'e1de9361-7330-4959-862b-e2f28202a22f',\n",
       " 'f1941f06-ecec-499f-81b0-34a62b82f1f5',\n",
       " '47ef599b-36e6-4d14-865f-94903a3cc056',\n",
       " '450aa353-1a9d-4414-8e24-396b43ebae94',\n",
       " '54a93182-ea8d-4f5e-b16e-fc3b31f78ccb',\n",
       " '7fbf082c-aa04-42f1-805e-acbdc275bff4',\n",
       " '83eecee5-dab1-4f73-b04a-ecdacef3e9c8',\n",
       " '67f82eb4-e2b4-4807-9f65-7db0342ca119',\n",
       " '4480cb2f-a9b5-4fa1-9b57-9f7cd786add1',\n",
       " 'f125658e-4e83-4fbe-aeee-c0bf7b73366e',\n",
       " '3cafdebc-68fd-453e-904b-317c7fdc1257',\n",
       " 'd53ac756-0ac3-427b-ab38-c5c05d66ae27',\n",
       " '33786147-af22-4acf-b4f9-76ee79deb933',\n",
       " '356dff95-1178-40fa-b5b2-4fbe6e8445fc',\n",
       " 'b9f53a3a-ee9f-40af-94cd-cee9780df1b7',\n",
       " 'eafcc860-945f-4ed9-9da5-6c6fa394e103',\n",
       " '4502fd0d-2913-4c1a-b53f-85856de81bd0',\n",
       " '1dfbc10a-a00b-49ff-aa25-ae850ab17546',\n",
       " 'e41a0376-2bb8-4901-9594-276d77db5220',\n",
       " '8e3bbc65-a047-46be-a191-473b22417cdf',\n",
       " '94cc0ec4-f464-4f51-9937-263ff5c6a449',\n",
       " 'c76d37c6-44f0-4c4c-af91-cac3a30e2d51',\n",
       " '3c6a3476-f867-4cb3-b5b4-58ebbc1b1465',\n",
       " 'cb6cb422-6911-44dc-9da5-0ebb95be3e6d',\n",
       " '2907ce2c-a525-43c9-aa03-fa4540f66d09',\n",
       " 'd4a8219f-107b-4947-ab79-1b0aa64939c0',\n",
       " 'c6f478f4-b196-424f-aa84-e608bede469c',\n",
       " '420b7167-c30f-44f9-9ef3-2a2d352aeaa0',\n",
       " '5ae22f5b-9b14-4df4-8207-6cc03b8e4812',\n",
       " '447f8c8a-d0b0-4bc8-991f-8c607bc710f9',\n",
       " '1cd8da45-b870-4633-a730-a7ffcfd59f9b',\n",
       " '2aa84e2b-2a84-4b79-aabc-5a15dacdff31',\n",
       " '9374d572-2201-4145-85aa-cb3b1e600943',\n",
       " 'c055671f-9568-4ff1-a89e-ba415bcd0fe9',\n",
       " 'e34fbbb1-8f7a-40da-81a9-91179a288e88',\n",
       " '87a3fdb6-5c04-4a49-9321-f2885150153e',\n",
       " '2ae9e82e-427c-422a-8ff2-3f34269a5310',\n",
       " 'dfd03fd7-1521-48f3-9224-808218834507',\n",
       " '83937226-693c-4dd0-b8cc-7818244850ed',\n",
       " '33944934-519e-40bb-a9c3-c8279506088b',\n",
       " '2d47d24c-b489-4967-8921-c1d164cae047',\n",
       " 'fed5ec61-fc05-44cb-a1a0-6ffc66edcef7',\n",
       " '1b9976eb-33f7-4ef2-98c0-666759ebf6f9',\n",
       " '459a1225-dbc5-4dca-8c48-54bca2d8ae65',\n",
       " 'fcc918f2-1579-4a65-b233-ee50f7e5705c',\n",
       " '5cd39638-0b63-4590-a8a9-75ebc5fdbbe9',\n",
       " '17779cdb-77b1-442b-927c-f7676a1e6e8d',\n",
       " 'a1796882-8967-411d-a806-249e480c6966',\n",
       " '611bc603-1275-4b71-aa5e-276941e64880',\n",
       " '6a149d28-bb40-4e16-872d-c43b6f352e04',\n",
       " '2d4e0058-bfa8-442e-9129-b9c2fdfa974d',\n",
       " 'e4342647-8225-418a-b01c-a6e34b76a61e',\n",
       " 'b334f598-0839-401b-8bb5-44b789a255dc',\n",
       " '87b5b139-33de-424b-834c-84d82e05d265',\n",
       " '4a4b0486-4361-492e-bd0a-c7b12164d86e',\n",
       " '9dfe29d4-81b1-4e5f-92af-aec21cd19bec',\n",
       " '29721286-ad34-4e3e-8f44-0466e3dc86e1',\n",
       " '09280749-5528-4c6e-aaff-14d7f3bac170',\n",
       " '41dc4d66-22ca-41bb-b075-db672903b97b',\n",
       " '05e8fe7c-5fbe-4369-8a0b-82605db6a330',\n",
       " 'ed5df5dc-c05c-4cd0-86a7-9b5a798fe57b',\n",
       " 'f444671b-9030-4987-9b08-d35a6c74fa74',\n",
       " '3345fc0d-50c1-4433-9e07-982b42bb0cce',\n",
       " '706037ef-fb6f-4f21-bba6-1dce28f26345',\n",
       " '059d82e8-571a-41fc-8b4a-0c025e0b33ad',\n",
       " '3c343905-279e-4499-b4ec-74c291a333fd',\n",
       " '41c7cd94-0dc3-4087-a5df-5f83ef343a0a',\n",
       " '5712678c-2cb3-4c1c-9a31-e728540ed777',\n",
       " '6d65950a-af99-49d6-be94-1d21af62f6ee',\n",
       " '851f783b-62d5-46f0-b4d7-7011ac66563a',\n",
       " 'b5971568-88c6-4d7d-8e3f-3edec8702221',\n",
       " '4375a23c-3dd9-49e5-9a0f-615d7d136e01',\n",
       " 'c8caa38b-d932-4c43-a0a1-adb8aeee579a',\n",
       " '54dbf533-e3c2-4b45-aa30-369c364d83eb',\n",
       " '0f14c046-d024-4ac9-bde5-0446f1829606',\n",
       " '9984d927-52db-43fe-a09e-eb6fce5e3120',\n",
       " 'cc6a46be-3c37-4577-8d26-117bb38d8f76',\n",
       " 'b5a5ab9a-a60c-4503-837b-7317189e35ca',\n",
       " 'caf95acd-b5df-4b33-abbf-cdbf74866d16',\n",
       " '7e64abd8-c6d5-46f8-bc9e-ba8d58e52030',\n",
       " '9ede25aa-68da-4873-a647-b373d88be352',\n",
       " '9c19dfa9-f416-43de-8a79-4d869c13f502',\n",
       " '3f5951eb-6cf1-4d80-8a25-1226e76d6f7a',\n",
       " '9d7de19d-e5a1-49b1-b707-a313caa8b8b4',\n",
       " '5dd809b6-3ba7-4f64-b023-0d3dd500a011',\n",
       " '8789faf1-cb30-4119-a2e9-3425443df615',\n",
       " '8db999eb-f6e6-4795-b2de-ae1487c78ae2',\n",
       " '844d9992-0172-48bc-90d8-935459580d04',\n",
       " 'c3745eb0-2bc9-4146-950c-706231ca364d',\n",
       " 'a3bd1a16-c9a3-44bc-9e20-d425d28eddd5',\n",
       " '82268878-20ce-499e-9d99-78e82cab8b29',\n",
       " '5f9030b0-bbd4-4ddd-9e12-a7b14ea65979',\n",
       " 'a0b44fcb-54ff-442c-9642-f30ce971e750',\n",
       " 'f9014040-21c8-43ae-bb2d-df260527bc76',\n",
       " '6179f84a-4956-4824-9aee-7dcbb5072512',\n",
       " '79501c3a-f9c2-4ea6-976d-eaaaca4e9059',\n",
       " 'cef23006-5318-4660-b527-9430e66aff9f',\n",
       " 'e35875fb-7bd4-4081-9ea7-9c4da371e213',\n",
       " 'eb00a82c-fd70-48bc-a45a-5fd8b7ba8600',\n",
       " '77b8273c-f2e4-4e3c-88ad-3e967f1ad705',\n",
       " 'd3ff530a-46fc-4ddc-a5ca-e4ba9e356783',\n",
       " '68586440-1c06-4806-8f42-8d1e171618ef',\n",
       " 'e36f1ab7-34c6-46e6-adc2-371d3489d433',\n",
       " 'e0b64770-5b3c-432c-8a2a-ea72435b6c72',\n",
       " 'b9e8346e-6c07-4bee-8278-56c90fe9e6df',\n",
       " '63eab3cd-9bc7-4e34-b317-c44f1892c73b',\n",
       " 'f6452241-802c-4754-b055-2b4b4ad68949',\n",
       " '32e996da-9724-433e-8130-339f9fca5a14',\n",
       " '74ab3909-6d10-4b3c-9766-7d677d241fdc',\n",
       " '9d2d11e1-2416-4869-816e-86de7adf89ef',\n",
       " 'aed504f0-fb09-46c2-8889-5b01f7496522',\n",
       " 'b0df9933-9c8a-4f16-a307-f48e54cca673',\n",
       " '4be5156f-1216-4d53-a262-5b4d7dccdfe1',\n",
       " '79453a6b-820a-4d3f-b646-98a40a01759f',\n",
       " 'd4bc6366-cf17-4955-9c0a-268cfaa7d9a5',\n",
       " '64562cab-580c-41e0-8b84-62b800abdcbd',\n",
       " 'd2a1f859-635e-4a51-9f75-12e8779f9673',\n",
       " '5fe42fcf-3e86-4aa1-b9f3-fc4f214c61f2',\n",
       " '84e96069-06f4-4d47-b703-a68eb51da076',\n",
       " 'cc033466-4f72-459f-bfbe-ea1682aa512a',\n",
       " 'f2ae51bb-4851-4b11-972b-2d54a9711100',\n",
       " '0ecc61a2-98d1-469a-8536-6dc35a7e2276',\n",
       " '8e15e4f4-dd3d-4313-9606-2f40e0fda9c8',\n",
       " '0f5fed4e-a6ed-4b04-aa20-3e3bbc664d87',\n",
       " '7d3656de-385d-4f54-9ea1-c42546d71497',\n",
       " 'cc60eaa7-dc81-438e-a944-0dbe4a3df17b',\n",
       " '614d4ae3-0d37-4093-b2aa-3d020b164bdf',\n",
       " '57ca9b5e-a45c-47bc-a60c-62718ad7089f',\n",
       " '79e9461f-54e3-4496-810f-df78debccb50',\n",
       " '09bae577-49c9-4fd0-919b-0701226b9641',\n",
       " '2e268f39-d50c-4dca-8e07-593e764f89ed',\n",
       " '0106baee-50ef-4273-89e8-c0d3b5cf1479',\n",
       " 'ea90f8f2-2413-45c9-8d04-a1e25d71cc00',\n",
       " '553d7efd-6122-42ee-8737-6e2a07d62922',\n",
       " 'e643c387-96e4-4aaa-91f9-0bb042f40f3b',\n",
       " '03069ede-47ae-488e-bab7-954963191607',\n",
       " '3e087659-f7db-4cce-b42b-cc6854886abb',\n",
       " '6646d7cb-13e7-4e2b-80ae-83a96921a1d6',\n",
       " 'f5ddc20b-5cc4-45bc-b937-c687aa0c667f',\n",
       " 'e50aac51-b76c-41da-a7af-4d49571a8845',\n",
       " '061f2dfa-8687-4bc9-b8ab-31e7180a530c',\n",
       " '00a752b8-3d25-4520-95f1-8c18a545d868',\n",
       " '85cecc21-7f9c-4365-97b3-2c3a346e55f1',\n",
       " '2862582f-feda-4042-a6f1-9a75c024899f',\n",
       " 'db2ef9ea-ac88-47ca-b2b8-bf2598c9fdaf',\n",
       " '38364a87-bc34-4f59-a305-b0564c34e71c',\n",
       " '6b4b21d4-0768-4d24-886b-a09ac6f5c220',\n",
       " '5433b7a1-d1c7-470b-bc5a-ad27221cdfd8',\n",
       " 'f68ba663-befc-4cb9-a7e7-adbd09a3c7b1',\n",
       " '611e4f3f-a52b-4fd9-b9fa-541d34e3376c',\n",
       " '329d0c58-2f99-41bc-932c-2baab6b7ca57',\n",
       " 'b1a9fb83-79bf-4357-8bfd-b30fae55c14b',\n",
       " '65b78d4e-16e9-4a89-aa95-0607a1bfeb49',\n",
       " '366c03c0-9574-4210-aeb7-b4ce03e9699c',\n",
       " 'a00150b8-a12b-4a2f-867c-7397886f7388',\n",
       " 'd205ce41-73bb-4126-a8d3-5d5dad8a3eb4',\n",
       " 'ae21a945-c0c4-441f-af3e-9731f8b93e8a',\n",
       " 'a7f175ca-3928-4172-aee7-62cbbc5bf0af',\n",
       " '3f405528-af8f-4531-9cc6-e6547bdb0adf',\n",
       " 'a4ee85a3-50fc-40ef-8d0d-04290214f416',\n",
       " '6d39a6a7-92d6-4a26-baf2-0690f079fa34',\n",
       " '5b7d4877-d7f0-4fa5-ae04-a8946aeb4a35',\n",
       " '61582b1c-77f3-425a-b443-ca6151d39584',\n",
       " 'c381000a-24d2-49fd-be15-022a42583726',\n",
       " '5f6e6158-bb39-43c2-8f3b-3d8155f4a560',\n",
       " 'f539254c-dbe3-4498-97b3-7cfc2e6ec77c',\n",
       " '87f83a97-ec88-46ae-a53c-bec9837e26b4',\n",
       " '36863c5b-61e2-4180-9217-e0dcc9af0070',\n",
       " '6d07bcad-e909-49a8-b8c1-62dc2bd8b2f9',\n",
       " 'fa2600e7-59af-4e02-86d1-f77949b51afc',\n",
       " '3bfc75e5-b10f-44ff-8c25-6c0c6025ae9b',\n",
       " 'd87002ec-b59c-4ff9-bd81-0a8575053d29',\n",
       " '8b4e7823-b4d8-4d9c-b705-b7a656bdc23d',\n",
       " 'c84abf00-d01e-4311-bf6d-3f52c1e4a3e2',\n",
       " 'e58fb137-31db-48b3-9fef-432e8a6be5a2',\n",
       " '3cb027cb-9be4-44d5-8f88-4b2d67a3dd98',\n",
       " '3bea8820-2b6f-4fdd-92bc-790b09d89300',\n",
       " '815711e9-2ccc-4f39-934f-68d7e3e438a3',\n",
       " '82a05944-3861-4688-8a0e-f8316c2ca29e',\n",
       " '60b589f1-d5dc-4ec5-936b-d9a7e6bf3585',\n",
       " 'f210b296-dd11-4a09-8348-d4afc05befb2',\n",
       " '9966b232-7d10-4b7c-a701-d49046d1ab8d',\n",
       " '3fb790bd-f7ce-4755-9fcf-3e8c2f408e53',\n",
       " '3aaf9f13-c9a5-4cf4-8385-ed4c567ee63c',\n",
       " 'dc56ff1a-b79f-4a05-8651-e59245372c26',\n",
       " 'b110811e-9a57-4e6e-aa4e-669f3aba22ed',\n",
       " '62e95c0f-26aa-4f02-9269-ea2fdd6f08d7',\n",
       " 'c63124fb-e39a-4b54-884b-14019855e742',\n",
       " '2ebc3820-4e8c-4ea0-b2fb-79959dd21b9e',\n",
       " 'f71ec082-1baa-43dd-8c95-e74a53460051',\n",
       " '362c25a5-b6fd-447e-b360-13b7289a18df',\n",
       " '43fd0054-9cef-432d-98c7-15c0f0ffebe1',\n",
       " 'bee7bb05-3e22-413b-a34d-9637a527139e',\n",
       " '34cc7bad-b457-4576-9f8f-a117c3197597',\n",
       " 'dca9509b-172d-4f8c-aad7-f9acdffa47f2',\n",
       " 'e0b8f043-604f-4edb-9958-10cf105ac929',\n",
       " 'a7bda616-4b17-44d2-a656-243fd898ca13',\n",
       " 'e2e8d16d-17f7-4f01-bafe-b17170e695ad',\n",
       " '727c885d-e17f-4cc2-a835-8edca0202301',\n",
       " '291e2944-c95f-47b9-8929-b87856cf1469',\n",
       " '97f1e077-bb08-4eef-b0ad-f75af9a23c98',\n",
       " '525595ab-6142-4cf3-b527-0154f5922c31',\n",
       " '70922621-0b24-4e9d-9133-6bdd07758dc2',\n",
       " '1fbe8d8c-e619-43e5-9c3b-3a2f82f2ec17',\n",
       " '97f88fb0-9cf1-4841-a890-ac31eeabbeb5',\n",
       " '020e8f68-dd54-4c0d-b6e8-3cf817ae518c',\n",
       " 'b18768f9-2d77-4904-afbc-aa021bee5156',\n",
       " '2d1d607d-adda-4065-9bb0-4ac8bfad85bf',\n",
       " '0238efcc-7e01-442b-871d-64b731c6ed1b',\n",
       " 'b742a12a-40e0-408b-9e5c-a1bbd2c286d3',\n",
       " 'd445df4d-acc4-48cb-b524-d686c1282f31',\n",
       " '09f6551e-9438-415c-bd8c-4349139f465f',\n",
       " '0ebe112f-03d7-462e-816a-3455653961b8',\n",
       " '24bfba63-221f-4571-a830-a1e8412b92d6',\n",
       " 'c4ab28d7-937e-40c0-8db8-9566aff2aeda',\n",
       " '2bdecc3f-e71f-41c9-8073-9e0a2a62ec29',\n",
       " 'b57da7ec-49ea-4a96-b9b6-2648be80a5d0',\n",
       " '9dee1c59-c332-49fa-9880-6d8ce4c991ce',\n",
       " '3b13c3d7-7dcc-4afd-81a9-fe358300802d',\n",
       " '078ec81c-293d-43a1-bb8c-f983136f825e',\n",
       " 'df5d2f1f-9e75-40ca-8185-363d5b62a96d',\n",
       " 'aaff5bf9-587f-4455-8459-c45f1c1cbf9e',\n",
       " '59026a02-4780-4647-94bd-29e8a4dbe1f1',\n",
       " '881da6db-98af-48f8-9747-d20d93f2a37b',\n",
       " 'e42048cb-9138-41ab-83f3-fe517d615fe6',\n",
       " 'f3d7df69-0744-42c2-b1a8-feaa5f4ef2ad',\n",
       " '3fe6d8cf-a24a-45c7-8a3d-41d24fc0f86e',\n",
       " 'd15bded6-4e72-4bd6-9622-5d87c2071f54',\n",
       " '56efe828-8284-40e4-8dd4-994c2e2d0041',\n",
       " 'b8ac0887-8b8e-4389-bc10-655736f84834',\n",
       " '995e7c5f-79ff-4479-b216-8cc7c0406c64',\n",
       " 'c587d8d9-3d62-48bc-85d1-a64c9d3c86c1',\n",
       " '580df90a-e4d5-44cd-9c93-8c4111e62b8b',\n",
       " '706297df-4365-4b70-9eab-bd29f89b7ca9',\n",
       " 'ec6fd4ae-f5c5-4b62-ba5e-dc9120e7d602',\n",
       " 'fbcac804-01c5-4ee7-b40d-7090659aab10',\n",
       " '148e8575-e8b4-4eda-9611-d81f3f01e876',\n",
       " 'dcd92ab3-93ae-4efc-80f2-3f37e9d2d835',\n",
       " '6542660b-46fb-453d-9cf4-f58c83680ee4',\n",
       " '0c020c3c-28ef-40e2-a570-a4d408cf35e8',\n",
       " '423278af-bc7f-4926-8556-ee06163d7ff1',\n",
       " 'b2d3dbe6-f699-40ad-8925-761efdadec0c',\n",
       " '0f741717-33bd-4a39-b4d7-34a66afcc06c',\n",
       " 'd1978614-9e49-44b8-8b13-0de1f26e08e8',\n",
       " 'af7f8859-d4ed-4192-9f9c-5da54f617484',\n",
       " 'fe03f67e-2709-4c26-a28c-8cb44a0b1291',\n",
       " 'b4d9de0e-1c1f-4305-8c38-35da4dc223ed',\n",
       " '3b2d78d4-df7f-42b7-9245-73ec69a783a3',\n",
       " '513bb7a3-4fca-43bc-a349-a1a951fe00ef',\n",
       " '7dc050dc-40d9-48ac-b9d9-0334f64a2585',\n",
       " 'c30bbc93-d0e0-4ca8-93f6-ed261d91534f',\n",
       " 'df01060c-cbf6-4c00-9573-63dca6c19c42',\n",
       " '46f16421-abd2-469f-934d-e551e1980804',\n",
       " '6158a684-2333-4b08-9776-c316cc598382',\n",
       " 'e3f74799-839f-48c0-8c55-97691f97aecb',\n",
       " 'ba07472d-c45d-4090-964e-2ae15c11aca9',\n",
       " '9594486e-f971-40bb-9603-3f19b5687d11',\n",
       " '34a431ff-b931-4eed-a543-4755fb340b6a',\n",
       " 'd3cbd4ae-55bd-4d4b-96e6-1fcf82b61780',\n",
       " '5724d1b4-5ae8-4343-9223-cd3fdd4e6b9a',\n",
       " '6016b972-a215-4207-b7b1-f7f8a4a5d8e6',\n",
       " '7919c2de-8d5b-47e8-bb42-6162b5aa47fb',\n",
       " '79c2e5dd-e07e-44b2-8992-43a4bf893383',\n",
       " '79017cc2-41f5-44af-8957-c04eeee95243',\n",
       " '18b9648a-8167-4748-91b0-c551a26e6690',\n",
       " '8a02d632-374b-47f1-8ae4-c8b886ff0d0d',\n",
       " '2207fc2b-820f-48b5-a3c2-aa769e636982',\n",
       " '0ab6c2d1-aa28-45d6-a302-8dff23320479',\n",
       " '6a018adb-7a57-4000-baf8-897373cbc2d5',\n",
       " 'de5a14c9-1a43-431e-8885-1cb4ed40e6ea',\n",
       " 'f2995843-a676-4363-8e4d-0433849fc289',\n",
       " '729fcbb3-8afe-4501-97b3-6eae0dc1fc14',\n",
       " '523434db-db37-4785-a3f7-7ccac116f591',\n",
       " '269cc6e8-a985-4970-8c16-c7e18f4373f0',\n",
       " 'b8d5c6f9-ceb9-40c9-8733-7350045fe927',\n",
       " '114b8f00-b106-400c-a6e0-c1210fd6eff7',\n",
       " '07656e94-4ca5-4581-8041-000f94a47fa4',\n",
       " '8acf4c1e-2f1d-4271-b45d-cc3f5ac001a3',\n",
       " 'c4b0cd37-a266-4fcc-925a-8f9a74b9acc9',\n",
       " 'ced4fd9e-86aa-4b28-991a-4fa6ff1a5843',\n",
       " 'f377b7c8-3c80-4dc4-8d6f-08cde41ae341',\n",
       " '5e5108f6-f341-4b25-9517-b3ebaceef821',\n",
       " '7b1e4a2b-ffff-4942-bbd4-decbfb512d13',\n",
       " 'b63a997b-7a07-4647-b2be-3334e91c6569',\n",
       " 'd9e3a46d-4256-41d4-9466-6906b3247c73',\n",
       " '99445a9d-1389-406f-8677-8d5700ad9356',\n",
       " '23e00053-e86d-4e2b-9a3d-98b81dca0414',\n",
       " '3e3ec439-cd12-4913-a530-bd33f4aaa8b3',\n",
       " '5f028343-20ce-408e-8e09-7ec8fb1b931c',\n",
       " '1b5f55df-cd3b-4498-b94f-9b01914d163d',\n",
       " '483f7f45-a4cc-4803-8748-d4d1c05dafce',\n",
       " 'ba06b14e-ff6a-4aee-855e-e3845fff15af',\n",
       " '2b0595f6-6791-4fd2-b5e2-3d0c223fb1ca',\n",
       " 'ef7efc53-4e6d-4119-a01f-72668679fbfc',\n",
       " 'c79f85a8-ad09-4899-bd45-04c134e80d92',\n",
       " '8fc8eb00-9817-4914-aaf1-98d0b1e01e43',\n",
       " 'a4a72cf6-1df7-4d77-bbc2-bee00a4f85d8',\n",
       " '029580ff-ec4c-40c8-9e02-0c04f122a665',\n",
       " 'd936b6a0-e08a-4e42-88e9-b07592153f15',\n",
       " '1b0baef4-b06c-45c3-b439-bc2d0fd758fb',\n",
       " '60839a87-6e62-407f-abf4-7903869725f9',\n",
       " '18e1652e-2900-4a15-8ce7-a491d98bc511',\n",
       " '164ee5cc-2f1a-4143-bf32-465a88fa1f56',\n",
       " 'fa51b410-cab3-4bc2-8206-c880ad7bb330',\n",
       " '339bf4a4-760e-4c72-8c1e-91c0ace45f05',\n",
       " '0d0ac852-a7f7-4db7-9a51-dac20d18ac86',\n",
       " '034d9d05-7082-4481-8813-a6ae2c3de081',\n",
       " '923d47c2-577c-4bf1-a18b-1fad725e45ca',\n",
       " '74951afa-02b2-470b-b5ca-0f651a80287a',\n",
       " 'dc806e29-9fb9-4f1b-8e0f-e68e0543db61',\n",
       " '391e6f5e-50ee-47e7-9460-070d5671f9a5',\n",
       " '15fa3f68-8731-4ea0-91e1-013abc30c303',\n",
       " '671ef6ee-4dd8-4700-a6f5-195528388c8e',\n",
       " 'd38d1222-9ffc-4d33-b194-36eae0e05dd2',\n",
       " 'c95c9dad-a909-492c-a86a-ace69687308b',\n",
       " 'f8d20d05-4517-400e-a169-ad8981012256',\n",
       " '1a1f2334-b6bd-4eca-86bc-d16cf1878cf7',\n",
       " '13691bd0-507f-4308-83a9-e5a9fe928227',\n",
       " '9173e608-df71-4295-98a9-7e7e0c528d7e',\n",
       " '564def1b-9b2c-4576-b751-523cc76d9472',\n",
       " '01e77534-3342-4316-931a-f6c8b0fb64e6',\n",
       " '98fa6283-8760-473a-9654-a2736188ffa1',\n",
       " 'f8f8f7a3-7d5b-497c-b25e-cbbbef9e39c9',\n",
       " '03cf71a6-2c13-4569-8c0d-b79a6f95cae2',\n",
       " '844bc525-548c-405c-af3c-c6929baa74f4',\n",
       " '394da2ac-14b9-4202-9533-ab87029b6108',\n",
       " 'cca0dcfa-f78d-4a4c-a22d-e3366e04892f',\n",
       " '1f02aa6d-d390-49c5-8828-bc36ea5d5f38',\n",
       " '2d530aa7-d679-490c-af4b-c455e4fb84b6',\n",
       " 'f9b40e14-cec6-410c-a388-e0b29c3b3d7a',\n",
       " 'd7316bb9-7ea7-4b24-a70c-e2eafad7827e',\n",
       " '5f31e9e7-5de4-4807-86e9-a1c0ecd7b0ab',\n",
       " 'cc6bee10-b28e-4459-a416-951f4b7c6018',\n",
       " 'dbb39938-840d-47f8-9681-798c05d7ae67',\n",
       " '7e0dcab1-99de-4bab-b9c3-5bfcc9d4d826',\n",
       " 'b651c4d3-f23a-4f4c-9b9f-0b77765580b3',\n",
       " 'bfb5a921-4b2b-4949-ace2-167820f2c74f',\n",
       " 'fd0518cc-4348-42a0-8b46-2db2c2e77923',\n",
       " 'ba7da2fd-9d4c-44b7-b5b2-d5162214edbc',\n",
       " '42a75404-869c-4618-ba67-1db1cdea8678',\n",
       " '7c31f548-614b-4c6c-8a6f-f4a333c8b0a8',\n",
       " 'e31d048b-a535-430b-a6ed-737cdce158e0',\n",
       " '18776ccc-097b-434e-8728-f561685af8a8',\n",
       " '39346be5-7774-4545-8e29-64be046ecd83',\n",
       " '45fd28c2-d1aa-41d1-a834-97c600f5583a',\n",
       " '476a8cdf-22d8-44b5-9231-cda91beb31c8',\n",
       " '853c5897-f535-4a61-9d0c-e5df30230211',\n",
       " '2bc3dc83-565c-4ee4-b903-e16858fd566d',\n",
       " '5b5d238f-841b-417f-b2d3-b469eaf5c4d4',\n",
       " '11f2c722-bb4f-42d6-915a-839b11889aa1',\n",
       " 'bf7d9a63-bf39-4174-ba6f-d09534f636b9',\n",
       " '1695d6f7-3844-4b3a-94f8-08ec6debed8f',\n",
       " 'a38cdaef-22ca-4dcd-8255-8fa13ea207bf',\n",
       " '51bc8f1f-a93a-4cce-91c1-286f089ccb7e',\n",
       " 'ca84e46f-3419-4c14-a60b-beedd16b1768',\n",
       " '78bd739a-a2a9-47e5-84c5-34f8f237b2ef',\n",
       " '0f9713b5-dcab-49e3-905d-1160789585a6',\n",
       " '38f937ba-77ce-472d-89be-15b9f2cfccc1',\n",
       " 'd22d6462-5e36-4928-84cd-3ae6b00ee626',\n",
       " 'd304e593-f5f1-4bd9-a570-4ebad8bc9f5e',\n",
       " '0009165c-0490-42e0-94a6-5dfeff0dc7df',\n",
       " '645255eb-9798-4570-bab5-692a933ff4bf',\n",
       " 'b00be334-4115-42b6-8a17-a0db0008fe3a',\n",
       " '5636c21d-843c-4e67-8cb1-2e0b6c9d1dc8',\n",
       " '8c82e152-db56-431c-8c67-f6d78ae5fb6c',\n",
       " '8d6e74d2-44a6-468c-96cb-56f60639a118',\n",
       " '9f47b8ab-2c6f-4a16-b774-682144ffce72',\n",
       " 'bae0e5ac-f1dd-4f08-8e5e-3c14a893f6dd',\n",
       " '4a2e9ec0-2e24-4a91-ad49-383e0f1e038b',\n",
       " '2d5b3db8-5c0a-434a-9bf7-a821d9154752',\n",
       " '58bfcb2f-3b16-42ae-ab1e-06b4b3097996',\n",
       " '6c0cd10e-f84d-4813-b25e-c9247fc6ed7b',\n",
       " '7fd8458e-3b0e-41c1-a76b-59aee80188fc',\n",
       " 'eafe058a-5579-4c12-8231-5b987571b1ec',\n",
       " 'd0a2e909-4516-4d29-8aca-073cc1c17a11',\n",
       " 'd8b48e4a-e4ee-47fa-b6cf-04949ef2b2bf',\n",
       " 'f30b79e7-1528-474b-99e8-33c715fcc066',\n",
       " '1704cd10-4711-46f7-be39-9a99f49397f6',\n",
       " 'e79fc9de-af92-4439-b789-e521767fba6e',\n",
       " 'c4d4fb87-e2ab-4cf0-ad21-8fcdabb76d62',\n",
       " 'd821a289-74d2-45b1-9a21-fefafae2a964',\n",
       " 'c3647f13-6652-4b28-aa54-c7b4c2f4393f',\n",
       " 'f2fc937a-45dc-405a-9e3f-ed06c3bf1c39',\n",
       " 'a2cf5e88-d670-45de-8135-3931ff541f20',\n",
       " 'f3f733e7-4964-4438-85ce-d99466eea1d7',\n",
       " 'e66fd720-a8fa-4c3a-9aaf-f99c891b4bfe',\n",
       " 'dbcb7e1f-68dc-47c5-9adb-02c850d0eb45',\n",
       " '9fb9f6b7-fde4-4010-8e77-b655340377cb',\n",
       " 'bd230520-be26-4c66-b5b0-6cbc7bc5a1b8',\n",
       " '998f5b75-6712-49cb-83e5-7c02d4f05334',\n",
       " 'cdec0a8c-ca48-485d-b91b-1c4cfa01dfe8',\n",
       " 'f2e3cad0-40f5-4aef-b274-40962a1d350e',\n",
       " '2726734c-ad7b-40e0-8f73-a903ab64448c',\n",
       " '8e7e6e7b-84a9-4564-8c9f-29e09be3442e',\n",
       " 'cc45f604-388d-4317-b3fa-e331bd13aaa7',\n",
       " '31589597-5b44-4710-a901-4aea00e3c637',\n",
       " '0a81e72f-6ed9-459a-888c-d7bf40b4654c',\n",
       " 'e6dc5875-c176-4eb7-8488-0d460126235e',\n",
       " 'c55d0d53-fbd2-49b7-a089-f52dc34851b4',\n",
       " '94d94805-6a41-46d0-ac3c-1f6d35d3776c',\n",
       " '1347d53c-2628-4e70-8857-66fbfe5bb7aa',\n",
       " '88f370e3-bfc2-4495-a9c8-3340dad577e5',\n",
       " '5594776f-afb1-443f-bd83-176753d7c642',\n",
       " 'f1716ae1-3ccb-4352-8c6e-73f5db8b21b9',\n",
       " 'b79f87bd-b04b-4e36-89ba-05bbb891c0c8',\n",
       " 'ecf19502-72c7-4ce7-b4b5-9a283267f160',\n",
       " '73fcea88-2345-428b-8cba-8772cfaa6cbe',\n",
       " '36a96905-bf71-4c7b-bbbe-5f033f39046a',\n",
       " 'c9b59d51-2c09-4320-9d46-f61b304d01a0',\n",
       " '1c51da79-578b-41eb-b031-69bf0452c1fc',\n",
       " 'e48474f6-c139-4ee9-b48d-24b09a85184e',\n",
       " '43c04c09-5b5b-431e-987f-d73497f6e8f6',\n",
       " '926158bd-3536-4a69-8e04-8e0d59fe5f20',\n",
       " '9158d600-325c-4c25-bece-0eea8d035d6d',\n",
       " '2183718e-b3b8-49c4-af81-40b34af2dc72',\n",
       " 'bdc2377b-55c5-48b5-a5b3-0b23e6d31c9c',\n",
       " 'ff3e5943-a08c-432b-9d51-04a8ded1a949',\n",
       " 'e3647c23-a8bb-4758-9c2e-e4613eacc54f',\n",
       " '791add2c-4877-4d15-bfc6-d4e1fd983cf6',\n",
       " '29d22994-16de-4def-ad1e-e7188ec680e2',\n",
       " '0aa8d465-d87b-45c5-8485-5d45cb1cc480',\n",
       " 'c97feaec-b548-4880-b6ba-0b8f3f7049a3',\n",
       " '196d6e97-a7c5-4486-b7c0-5ddb622de5c3',\n",
       " '7c3203be-214c-4e10-a5f5-137749fb6f96',\n",
       " '97c48504-8605-4970-b401-ef2689f625eb',\n",
       " '96906534-a974-4041-862a-618db5848a42',\n",
       " '0d8b06cb-e295-4271-92ba-4c01e7f0246f',\n",
       " '80356265-caa3-4e83-b908-204a0a128d61',\n",
       " '720b8052-0ae8-46ff-9f2a-0e8eda863775',\n",
       " '69c58dbb-64ca-43b3-babc-cedf7e3fb166',\n",
       " '5d20c1ab-9182-4c5c-b864-642a0db353f2',\n",
       " 'aa55fd14-1c58-482f-a02e-d8a687ffa573',\n",
       " '77a0da5c-f0df-4ef8-81f8-65e1e15a8401',\n",
       " '05ad8a52-a020-4f28-8ded-0cc2861c08ed',\n",
       " '397c69c9-d12d-45bd-896e-026fe1368b65',\n",
       " 'c48cf09e-0d68-47b0-8905-e205cd813cbf',\n",
       " 'd7a911cc-b61b-46d1-b560-88fc980d73aa',\n",
       " 'f53d9fe3-a18c-42fb-aaa9-ffdad0f4b82f',\n",
       " 'f305934d-a210-4524-9ed8-0bda94d01d94',\n",
       " '6d2c8112-fd02-469d-9094-50eb06930297',\n",
       " 'cf81d68d-61f9-489c-a0d0-ffc582c03c80',\n",
       " '7adb5ec4-a362-43c8-8950-dce6af728b1f',\n",
       " '43f80405-44c0-4f0b-adbf-25ef83b01c70',\n",
       " '0e747adf-9f81-4112-86b2-d3f11efd90f7',\n",
       " '3840e568-eae1-4bab-a324-2189b1595036',\n",
       " '9e66f90e-3ac9-40cf-834b-5a4854caf653',\n",
       " '330f35c5-c32a-4167-8889-fe643ca62bac',\n",
       " 'f44d8a81-482c-4044-b65a-0ff866531255',\n",
       " '60ab8e14-68e2-43c9-a558-ac2b57ecf352',\n",
       " 'd39cf53a-fbb8-427e-ac38-42f9f57deae7',\n",
       " '761b6f94-a60a-4e8a-bc19-0ac55ed831b1',\n",
       " 'd7f7ab85-a61d-44cd-9acb-a726396e3a5e',\n",
       " 'fc575874-7906-45c0-bd25-469fdca258c2',\n",
       " '02c3207f-ee0d-484f-bf4c-c884c8386bdc',\n",
       " '4008bc15-f77a-4eb0-a3c8-7b3721dd67eb',\n",
       " 'a3bdc4bf-a554-4e47-8966-3034fc4ac991',\n",
       " '76fcfeab-d030-4d16-9595-6f3a0f3c9f89',\n",
       " '48ef7487-2d05-4c20-bcfe-50d8ba3b000a',\n",
       " '6b2cf329-d451-4118-a852-362822268c4a',\n",
       " 'fb7c8084-b2ba-4ce2-a89c-9b8264f61cdb',\n",
       " '77243272-4038-4c09-a12d-36d390379932',\n",
       " '56066df0-6a31-4706-9ac8-efe67d48d643',\n",
       " 'b3675c1f-3843-4d9a-a84f-93d59ae11cae',\n",
       " 'ebb7ec5a-83ee-4870-8d99-331ff6e3677f',\n",
       " '726d6701-f838-41c9-a9ec-3f2f07b6d6a6',\n",
       " '16d1d290-a0fc-4491-ba0f-96cc6c9996d9',\n",
       " '52111dcc-a770-4013-8922-887ab4210394',\n",
       " '303a433d-7e37-40b6-b15b-9c735afeabe8',\n",
       " '186ffe15-6e1f-4f62-a94a-b637e6df1521',\n",
       " 'eb797646-493e-4c66-981a-76b0ebe0a8c5',\n",
       " '23cf53ae-72ed-4d99-ba8a-7e5f2d914eea',\n",
       " '05aeeda2-3337-4d4c-b75c-8969a3718e0d',\n",
       " '997a13cd-6a11-4a54-8869-acc70d1e0f1f',\n",
       " 'dce0523e-3489-4381-b578-7028e1881452',\n",
       " 'd8aac6be-e06a-4d21-aafb-46b8bf3c6a48',\n",
       " '6027988f-d83d-4183-9ec3-757859f8ce03',\n",
       " '22095693-05be-4051-88ba-e5389ee0c980',\n",
       " '433f530f-626c-40f0-a96c-5f916a15d200',\n",
       " 'b4bb1d3a-fbb9-4d9e-8d6e-55f231a6c5dc',\n",
       " 'f11f39b8-cfe7-43bb-a87b-4f6cb24504b7',\n",
       " 'f05fd1fa-4b27-428c-b3d6-968f1e50de7d',\n",
       " '181f7c64-0bae-42bb-b788-d7a94ea58c27',\n",
       " '46d05272-249d-4f43-8bce-049c70b9946e',\n",
       " 'b3c450e3-e2b5-477b-88df-d6f9f5af189a',\n",
       " '5cd90376-e357-4269-a5ca-73876a1bb406',\n",
       " '71a12519-4cf1-487d-808f-e33f66bd7778',\n",
       " '8460c70f-3dad-43ee-a750-7849146ed966',\n",
       " 'd2ba2522-6934-4b2a-8e80-ce549ad39b82',\n",
       " '5cc49855-8767-48f9-ae28-164e890243d9',\n",
       " '50d1d8ed-68fa-4848-b41d-0ee8e91745e0',\n",
       " '1b43ceb2-39da-4c89-b770-e91d54082c41',\n",
       " 'ee2a5697-b26e-4e54-9099-43fae66a5dc1',\n",
       " '5156e027-fa7c-42c5-8163-743ce1dce9ed',\n",
       " '51f9bf5a-cb5f-46a6-8e1b-1128426043ed',\n",
       " 'b6fbcff1-c7cf-4949-80dc-0b9d68203a29',\n",
       " '0732192b-7086-4361-96da-b9da032e9097',\n",
       " '775523f5-c058-4d40-8316-5ac75c0a866d',\n",
       " '7f4eabe1-21a6-42a4-adaf-caa586a8b60e',\n",
       " 'a872534a-03bf-44bc-a39b-125bb9b55fe5',\n",
       " 'd0ec7678-f167-4e79-8970-45785f0b409e',\n",
       " '4fa53c7a-bb71-4001-a5df-52b0b51cb1e1',\n",
       " 'e8dd3772-0c0e-4290-8cd2-86fc567b5cf7',\n",
       " '2f6c44a7-47b5-419f-9234-533be6d87663',\n",
       " '6dea52db-23c8-4735-93bb-77e17fc808f9',\n",
       " 'ca2c8d58-b46e-4e73-89b9-8df7b4c457f3',\n",
       " '06f6b495-7e88-4c3a-8da7-f19bc20f105a',\n",
       " 'ef9c61a9-b42f-4601-8f79-33606532b484',\n",
       " '80c9d9bb-d059-4df2-a817-0934712f6cda',\n",
       " 'f819e733-3856-4395-b7e8-a3af31c1ddcc',\n",
       " '0c3ac8c3-e4f9-4ccb-b039-75eb5628d41f',\n",
       " '4a0f5394-969e-4f0a-bd66-02fca9af39b8',\n",
       " 'f43570e6-2598-4b7f-9130-2c4485d65441',\n",
       " '0eea5408-3035-48a4-bc7a-efd4ccccede5',\n",
       " '25b6aa8d-de62-4341-837d-5fdcb92903dd',\n",
       " '82b6f917-f501-4754-ba55-8ff44aea4d5f',\n",
       " '4f231c38-2bad-473b-bbc7-08b78507c141',\n",
       " 'ebb05e7d-9771-42ea-9752-894899acab27',\n",
       " '6610a066-b917-4f21-aa7d-1650e40aaae4',\n",
       " '0627afb0-8337-4b38-b206-c3fcb6e6f581',\n",
       " 'bda7cbc3-3314-4f85-9dc2-2d55a23e21da',\n",
       " '155520ab-4856-4788-9b71-506b56df50b8',\n",
       " '4965d602-5474-4aa6-b7b2-e6575e6302ae',\n",
       " '57081e7f-c09b-4dc6-bfb6-3898722f677e',\n",
       " '1dd4fb0b-01a5-4644-b0bc-bb45b3e5fd27',\n",
       " 'e4b2a245-743c-4bb1-b049-3e772b8c4594',\n",
       " '129305db-2abf-4859-8813-48ebe3bbcb74',\n",
       " '3d7797e5-cc2e-46a2-97b5-81e851c904e0',\n",
       " 'd4c928b9-fe87-4652-bd83-3ab26f355866',\n",
       " '0c5fa9c3-cab3-4080-a738-b7f26cc884c4',\n",
       " '00e79337-7646-4983-84b8-e89fc0a82b1a',\n",
       " '010c5575-c473-48ef-bc73-c282a37d4815',\n",
       " '5b735310-8450-4e8d-bc23-3a536c1382ab',\n",
       " '5d298eae-a6ee-47a2-a3c6-4a14f4a04f7a',\n",
       " 'e4f8f680-a4c1-44d0-ae45-c093b76c9f0b',\n",
       " '18cfc83b-1c51-43f8-9aba-c1ff1d3c9584',\n",
       " '7264444e-53da-4c50-adc2-f140071d95e5',\n",
       " '6d28af1d-4e68-4126-837f-e78ddc2be03a',\n",
       " '05a1086c-bea0-4d32-9ae0-7c9c91124d87',\n",
       " '4ed609ad-c4e1-405c-9da2-36f4656ec913',\n",
       " '360f3c93-5b2d-4297-ac63-412f43b74577',\n",
       " 'b362d473-ae3e-48c6-bb74-6d4ef0572d2a']"
      ]
     },
     "execution_count": 50,
     "metadata": {},
     "output_type": "execute_result"
    }
   ],
   "source": [
    "# CHROMA (HNSW)\n",
    "chroma_vectorstore = Chroma(persist_directory=\"chroma_aoe2\",  embedding_function=embedding)\n",
    "chroma_vectorstore.add_documents(aoe2_chunks)"
   ]
  },
  {
   "cell_type": "code",
   "execution_count": 51,
   "metadata": {},
   "outputs": [
    {
     "data": {
      "text/plain": [
       "[Document(metadata={'page': 26, 'source': 'docs/Age_of_Empires_2_Manual.pdf'}, page_content='24 Chapter III  -  Building Your EmpireChapter III\\nPutting your villagers to work\\nVillagers are invaluable to your civilization. Their primary function\\nis to gather wood, food, gold, and stone from the land and deposit it\\nin your stockpile. They also construct buildings and repair damaged\\nbuildings, boats, and siege weapons. In a pinch, they can evenengage in combat. Fishing Ships also contribute to population count'),\n",
       " Document(metadata={'page': 89, 'source': 'docs/Age_of_Empires_2_Manual.pdf'}, page_content='and gold, hunt, forage, fish, herd sheep, and farm. They also construct buildings andrepair damaged buildings, ships, and siege weapons. If necessary, they can also engage in\\ncombat. Villager gender is randomly determined when you create a new villager. They\\nperform the same tasks regardless of their gender.\\nThe great percentage of people in the Middle Ages were\\npeasants, serfs, and lowly villagers who gathered the food'),\n",
       " Document(metadata={'page': 28, 'source': 'docs/Age_of_Empires_2_Manual.pdf'}, page_content='Farms & Fish Traps\\nFarms and Fish Traps are the only renewable sources of food. A villager builds a Farm (or\\na Fishing Ship builds a Fish Trap) and then gathers food from it and deposits it at the\\nTown Center or Mill (or Dock). Only one farmer can work a Farm, and only one FishingShip can work a Fish Trap.To find idle villagers\\nClick the Idle Villager  button near the mini-map. Each time you click'),\n",
       " Document(metadata={'page': 6, 'source': 'docs/Age_of_Empires_2_Manual.pdf'}, page_content='mine, or gold mine.\\nThe villager gathers some of the resource and automatically carries it to your\\nTown Center, where it is deposited in your stockpile (the amount is shown in\\nthe upper-left corner of the screen).\\nTo create a villager\\nClick the Town Center, and then click\\nthe Create Villager  button.\\nAfter a few seconds, the villager appears near\\nyour Town Center and you can order it to\\ngather resources.'),\n",
       " Document(metadata={'page': 12, 'source': 'docs/Age_of_Empires_2_Manual.pdf'}, page_content='each other and to your Town Center or Mill. This maximizes your real estate,lets villagers deposit food from Farms faster, and centralizes your Farms in onelocation so you can quickly rebuild them when they become fallow.\\nz Click the Idle Villager  button near the mini-map in the lower-right corner of\\nthe game screen or press the PERIOD ( . ) key to find villagers who aren’tworking.\\nz Press the COMMA ( , ) key to find your idle military units.'),\n",
       " Document(metadata={'page': 50, 'source': 'docs/Age_of_Empires_2_Manual.pdf'}, page_content='see Chapters III and IV):\\nz Create new villagers.\\nz Deposit all resources (wood, food, gold, and stone) into your stockpile.\\nz Advance to the next age.\\nz Research technology that improves your villagers and buildings.\\nz Ring the town bell to garrison villagers safely inside during enemy\\nattack.B uildings')]"
      ]
     },
     "execution_count": 51,
     "metadata": {},
     "output_type": "execute_result"
    }
   ],
   "source": [
    "chroma_retriever = chroma_vectorstore.as_retriever(search_kwargs={\"k\": 6})\n",
    "chroma_retriever.invoke(\"Villagers\")"
   ]
  },
  {
   "cell_type": "code",
   "execution_count": null,
   "metadata": {},
   "outputs": [],
   "source": []
  },
  {
   "cell_type": "markdown",
   "metadata": {},
   "source": [
    "# FAISS"
   ]
  },
  {
   "cell_type": "code",
   "execution_count": 22,
   "metadata": {},
   "outputs": [],
   "source": [
    "# FAISS (HNSW + Product Quantization to reduce memory)\n",
    "faiss_vectorstore = FAISS.from_documents(aoe2_chunks, embedding=embedding)"
   ]
  },
  {
   "cell_type": "code",
   "execution_count": 25,
   "metadata": {},
   "outputs": [
    {
     "data": {
      "text/plain": [
       "[Document(metadata={'source': 'docs/Age_of_Empires_2_Manual.pdf', 'page': 26}, page_content='24 Chapter III  -  Building Your EmpireChapter III\\nPutting your villagers to work\\nVillagers are invaluable to your civilization. Their primary function\\nis to gather wood, food, gold, and stone from the land and deposit it\\nin your stockpile. They also construct buildings and repair damaged\\nbuildings, boats, and siege weapons. In a pinch, they can evenengage in combat. Fishing Ships also contribute to population count'),\n",
       " Document(metadata={'source': 'docs/Age_of_Empires_2_Manual.pdf', 'page': 89}, page_content='and gold, hunt, forage, fish, herd sheep, and farm. They also construct buildings andrepair damaged buildings, ships, and siege weapons. If necessary, they can also engage in\\ncombat. Villager gender is randomly determined when you create a new villager. They\\nperform the same tasks regardless of their gender.\\nThe great percentage of people in the Middle Ages were\\npeasants, serfs, and lowly villagers who gathered the food'),\n",
       " Document(metadata={'source': 'docs/Age_of_Empires_2_Manual.pdf', 'page': 28}, page_content='Farms & Fish Traps\\nFarms and Fish Traps are the only renewable sources of food. A villager builds a Farm (or\\na Fishing Ship builds a Fish Trap) and then gathers food from it and deposits it at the\\nTown Center or Mill (or Dock). Only one farmer can work a Farm, and only one FishingShip can work a Fish Trap.To find idle villagers\\nClick the Idle Villager  button near the mini-map. Each time you click'),\n",
       " Document(metadata={'source': 'docs/Age_of_Empires_2_Manual.pdf', 'page': 28}, page_content='Wheelbarrow, Hand Cart (Town Center); Heavy Plow (Mill); Double-Bit Axe, Bow Saw,T wo-Man Saw (Lumber Camp); Stone Mining, Gold Mining, Stone Shaft Mining, GoldShaft Mining (Mining Camp).\\nResources are gradually depleted and eventually disappear. When this happens, the\\nvillager goes to the same type of site if one is nearby or stands idle until you give neworders.\\nFarms & Fish Traps'),\n",
       " Document(metadata={'source': 'docs/Age_of_Empires_2_Manual.pdf', 'page': 6}, page_content='mine, or gold mine.\\nThe villager gathers some of the resource and automatically carries it to your\\nTown Center, where it is deposited in your stockpile (the amount is shown in\\nthe upper-left corner of the screen).\\nTo create a villager\\nClick the Town Center, and then click\\nthe Create Villager  button.\\nAfter a few seconds, the villager appears near\\nyour Town Center and you can order it to\\ngather resources.')]"
      ]
     },
     "execution_count": 25,
     "metadata": {},
     "output_type": "execute_result"
    }
   ],
   "source": [
    "faiss_retriever = faiss_vectorstore.as_retriever(search_kwargs={\"k\": 5})\n",
    "faiss_retriever.invoke(\"Villagers\")"
   ]
  },
  {
   "cell_type": "code",
   "execution_count": 26,
   "metadata": {},
   "outputs": [],
   "source": [
    "# Save\n",
    "faiss_vectorstore.save_local(\"faiss_aoe2\")"
   ]
  },
  {
   "cell_type": "markdown",
   "metadata": {},
   "source": [
    "## Asking single shot questions"
   ]
  },
  {
   "cell_type": "code",
   "execution_count": 29,
   "metadata": {},
   "outputs": [],
   "source": [
    "def make_llama_3_prompt(user, system=\"\", context=\"\"):\n",
    "    if system != \"\":\n",
    "        system_prompt = (\n",
    "            f\"<|start_header_id|>system<|end_header_id|>\\n\\n{system}<|eot_id|>\"\n",
    "        )\n",
    "    return f\"<|begin_of_text|>{system_prompt}<|start_header_id|>user<|end_header_id|>\\n\\n{user}<|eot_id|><|start_header_id|>assistant<|end_header_id|>\\n\\n\""
   ]
  },
  {
   "cell_type": "code",
   "execution_count": 30,
   "metadata": {},
   "outputs": [],
   "source": [
    "from langchain_ollama import ChatOllama\n",
    "llm = ChatOllama(model=\"llama3.1:latest\")"
   ]
  },
  {
   "cell_type": "markdown",
   "metadata": {},
   "source": [
    "Let's see if it works?"
   ]
  },
  {
   "cell_type": "code",
   "execution_count": 31,
   "metadata": {},
   "outputs": [
    {
     "data": {
      "text/plain": [
       "'Hello! How can I assist you today?'"
      ]
     },
     "execution_count": 31,
     "metadata": {},
     "output_type": "execute_result"
    }
   ],
   "source": [
    "llm.invoke(\"hello\").content"
   ]
  },
  {
   "cell_type": "code",
   "execution_count": 41,
   "metadata": {},
   "outputs": [
    {
     "name": "stdout",
     "output_type": "stream",
     "text": [
      "tags=['FAISS', 'OllamaEmbeddings'] vectorstore=<langchain_community.vectorstores.faiss.FAISS object at 0x177dba4e0> search_kwargs={'k': 5}\n"
     ]
    }
   ],
   "source": []
  },
  {
   "cell_type": "code",
   "execution_count": 45,
   "metadata": {},
   "outputs": [],
   "source": [
    "def custom_retriever(retriever: BaseRetriever, user_query:str, k):\n",
    "    retriever.k = k\n",
    "    retrieved_docs = retriever.invoke(user_query)\n",
    "    context = \"\"\n",
    "    print(faiss_retriever)\n",
    "    for doc in retrieved_docs:\n",
    "        context += f\"Extracted from page {doc.metadata['page']} \\n{doc.page_content} \\n\\n\"\n",
    "        print(doc.metadata['page'])\n",
    "    return context\n",
    "\n",
    "def query(user_query:str, retriever: BaseRetriever,  llm: ChatOllama, k=5):\n",
    "    context = custom_retriever(retriever, user_query, k)\n",
    "    system_prompt = (\"You are helpful assistant, your role is to assist people getting their way around the rules and mechanics of the famous game Age of Empires 2.\"\n",
    "                     \"You have the task to answer using the following context\"\n",
    "                     f\"<CONTEXT>{context}</CONTEXT>\"\n",
    "                     \"Keep you answers brief, 50 words at max.\"\n",
    "                     \"If the answer is not contained in the context, say you don't know\")\n",
    "    prompt = make_llama_3_prompt(user_query, system_prompt)\n",
    "    answer = llm.invoke(prompt)\n",
    "    return answer.content"
   ]
  },
  {
   "cell_type": "code",
   "execution_count": 46,
   "metadata": {},
   "outputs": [
    {
     "name": "stdout",
     "output_type": "stream",
     "text": [
      "tags=['FAISS', 'OllamaEmbeddings'] vectorstore=<langchain_community.vectorstores.faiss.FAISS object at 0x177dba4e0> search_kwargs={'k': 5}\n",
      "37\n",
      "30\n",
      "22\n",
      "37\n",
      "38\n",
      "According to page 30, you can increase the population limit by changing it in the \"Population\" box in the pregame settings. A good tactic is to set a high population limit early on, especially if you're playing as a civilization that benefits from a large number of villagers, such as the Franks or the Mongols.\n"
     ]
    }
   ],
   "source": [
    "answer = query(\"How can I increase the number of villagers, give me a good a tactic\", bm25_retriever, llm, k=5)\n",
    "print(answer)"
   ]
  },
  {
   "cell_type": "code",
   "execution_count": 44,
   "metadata": {},
   "outputs": [
    {
     "name": "stdout",
     "output_type": "stream",
     "text": [
      "tags=['FAISS', 'OllamaEmbeddings'] vectorstore=<langchain_community.vectorstores.faiss.FAISS object at 0x177dba4e0> search_kwargs={'k': 5}\n",
      "37\n",
      "30\n",
      "22\n",
      "37\n",
      "38\n",
      "Extracted from page 30 \n",
      "\n",
      "You can increase the population limit before starting a game by changing it in the Population box in the pregame settings.\n"
     ]
    }
   ],
   "source": [
    "answer = query(\"How can I increase the number of villagers, give me a good a tactic\", tfidf_retriever, llm, k=5)\n",
    "print(answer)"
   ]
  },
  {
   "cell_type": "code",
   "execution_count": 35,
   "metadata": {},
   "outputs": [
    {
     "name": "stdout",
     "output_type": "stream",
     "text": [
      "According to page 30, you can increase the population limit by changing it in the \"Population\" box in the pregame settings.\n"
     ]
    }
   ],
   "source": [
    "answer = query(\"How can I increase the number of villagers, give me a good a tactic\", chroma_retriever, llm, k=5)\n",
    "print(answer)"
   ]
  },
  {
   "cell_type": "code",
   "execution_count": 36,
   "metadata": {},
   "outputs": [
    {
     "name": "stdout",
     "output_type": "stream",
     "text": [
      "According to page 30, you can increase the population limit by changing it in the \"Population\" box in the pre-game settings. This will allow you to support more villagers, military units, or ships.\n"
     ]
    }
   ],
   "source": [
    "answer = query(\"How can I increase the number of villagers, give me a good a tactic\", faiss_retriever, llm, k=5)\n",
    "print(answer)"
   ]
  },
  {
   "cell_type": "code",
   "execution_count": null,
   "metadata": {},
   "outputs": [],
   "source": [
    "# For later\n",
    "\n",
    "# # initialize the ensemble retriever\n",
    "# ensemble_retriever = EnsembleRetriever(\n",
    "#     retrievers=[bm25_retriever, faiss_retriever], weights=[1, 0]\n",
    "# )"
   ]
  },
  {
   "cell_type": "markdown",
   "metadata": {},
   "source": []
  }
 ],
 "metadata": {
  "kernelspec": {
   "display_name": "localrag",
   "language": "python",
   "name": "python3"
  },
  "language_info": {
   "codemirror_mode": {
    "name": "ipython",
    "version": 3
   },
   "file_extension": ".py",
   "mimetype": "text/x-python",
   "name": "python",
   "nbconvert_exporter": "python",
   "pygments_lexer": "ipython3",
   "version": "3.12.4"
  }
 },
 "nbformat": 4,
 "nbformat_minor": 2
}
